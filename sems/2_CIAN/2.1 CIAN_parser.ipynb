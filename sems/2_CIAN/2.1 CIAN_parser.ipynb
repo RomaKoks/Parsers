{
 "cells": [
  {
   "cell_type": "markdown",
   "metadata": {},
   "source": [
    "\n",
    "\n",
    "<img align=\"center\" src=\"https://www.cian.ru/promo/adv/assets/images/logo.svg\" height=\"300\" width=\"300\"> \n",
    "\n",
    "\n",
    "# <center> Грабёж, разбой и другие незаконные деяния с помощью Python. <br> <br> Наше первое дело. Грабим ЦИАН.   </center>\n",
    "---------"
   ]
  },
  {
   "cell_type": "markdown",
   "metadata": {},
   "source": [
    "\n",
    "## Что мы хотим получить? \n",
    "\n",
    "Итак, нам нужно распарсить [CIAN.ru](http://cian.ru) и получить из него как минимум следующий список переменных по каждой квартирке из каждого округа Москвы\n",
    "\n",
    "- **N** – номер квартиры по порядку\n",
    "- **Rooms** – число комнат \n",
    "- **Price** – цена\n",
    "- **Totsp** – общая площадь квартиры, кв. м.\n",
    "- **Livesp** – жилая площадь квартиры, кв. м.\n",
    "- **Kitsp** – площадь кухни, кв. м.\n",
    "- **Dist** – расстояние от центра в км. (можно по Пифагору)\n",
    "- **Metrdist** – расстояние до метро в минутах\n",
    "- **Walk** – 1 – если пешком от метро, 0 – если на транспорте\n",
    "- **Brick** – 1 – кирпичный/монолит/жб, 0 – другой\n",
    "- **Tel** – 1 – если есть, 0 – нет\n",
    "- **Bal** – 1 – есть балкон/лоджия, 0 – нет\n",
    "- **Floor** – номер этажа, на котором расположена квартира\n",
    "- **Nfloors** – всего этажей в доме\n",
    "- **New** – 1 – первичный рынок, 0 - вторичка\n",
    "- ** И другие** \n",
    "---\n",
    "\n",
    "\n",
    "## Для чего всё это нужно? \n",
    "\n",
    "\n",
    "\n",
    "**Во-первых**, написать свой первый (второй, третий...N+1) парсер, познакомиться получше с питоном и некоторыми его библиотеками.\n",
    "\n",
    "**Во-вторых**, получив такой датасетик можно будет заняться его обработкой, очисткой, визуализацией, и прочими радостями, которые обязательно сопровождают работу с данными\n",
    "\n",
    "**В-третьих**, на основании обработанных данных можно строить модели! Например, объясняющие цену квартирки, что поможет понять, кому и где на Руси жить хорошо, или по поиску аномалий и выбросов, чтобы узнать, где у нас есть недооцененное/переоцененное жильё. \n",
    "\n",
    "**В-четвёртых**, от того, что происходит ниже иногда хочется кричать.\n",
    "\n",
    "\n",
    "<img align=\"center\" src=\"https://raw.githubusercontent.com/FUlyankin/Parsers/master/images%20/2.png\" height=\"600\" width=\"600\">\n",
    "\n",
    "\n",
    "---\n"
   ]
  },
  {
   "cell_type": "markdown",
   "metadata": {},
   "source": [
    "## 1. Пара зубодробительных определений\n",
    "\n",
    "* **Парсер** — это скрипт, который грабит информацию с сайта\n",
    "* **Краулер** — это часть парсера, которая бродит по ссылкам\n",
    "* **Краулинг** — это переход по страницам и ссылкам\n",
    "* **Скрапинг** — это сбор данных со страниц\n",
    "* **Парсинг** — это сразу и то, и другое! \n",
    "\n",
    "## 2. Что такое HTML? \n",
    "\n",
    "**HTML (HyperText Markup Language)**  — это такой же язык разметки как Markdown или LaTeX. Он является стандартным для написания различных сайтов. Команды в таком языке называются **тэгами**. Если быть совсем дотошным, то HTML является частным случаем некоего страшного стандарта SGML. Другим частным случаем является XML, с которым мы ещё встретимся. \n",
    "\n",
    "Если открыть абсолютно любой сайт, нажать на правую кнопку мышки, а после нажать `View page source`, то перед вами предстанет HTML скелет этого сайта. \n",
    "\n",
    "Можно увидеть, что HTML-страница это ни что иное как набор вложенных тегов. Можно заметить, например, следующие теги:\n",
    "\n",
    "- `<title>` – заголовок страницы\n",
    "- `<h1>…<h6>` – заголовки разных уровней\n",
    "- `<p>` – абзац (paragraph)\n",
    "- `<div>` – выделения фрагмента документа с целью изменения вида содержимого\n",
    "- `<table>` – прорисовка таблицы \n",
    "- `<tr>` – разделитель для строк в таблице \n",
    "- `<td>` – разделитель для столбцов в таблице\n",
    "- `<b>` – устанавливает жирное начертание шрифта\n",
    "\n",
    "Обычно команда `<...>` открывает тег, а  `</...>` закрывает его. Все, что находится между этими двумя командами, подчиняется правилу, которое диктует тег. Например, все, что находится между `<p>` и  `</p>` — это отдельный абзац.   \n",
    "\n",
    "Теги образуют своеобразное дерево с корнем в теге `<html>` и разбивают страницу на разные логические кусочки. У каждого тега есть свои потомки (дети) — те теги, которые вложены в него и свои родители. \n",
    "\n",
    "Например, HTML-древо страницы может выглядеть вот так:\n",
    "\n",
    "    <html>\n",
    "    <head> Заголовок </head>\n",
    "    <body>\n",
    "        <div> \n",
    "            Первый кусок текста со своими свойствами\n",
    "        </div>\n",
    "        <div>\n",
    "            Второй кусок текста\n",
    "                <b>\n",
    "                    Третий, жирный кусок\n",
    "                </b>\n",
    "        </div>\n",
    "        Четвёртый кусок текста        \n",
    "    </body>\n",
    "    </html>            \n",
    "    \n",
    "    \n",
    "<img align=\"center\" src=\"https://raw.githubusercontent.com/FUlyankin/Parsers/master/images%20/tree.png\" height=\"500\" width=\"500\"> \n",
    "\n",
    "Можно работать с этим html как с тексом, а можно как с деревом. Обход этого дерева и есть парсинг веб-страницы. Мы всего лишь будем находить нужные нам узлы среди всего этого разнообразия и забирать из них информацию!\n",
    "\n",
    "Вручную обходить эти деревья не очень приятно, поэтому есть специальные языки для обхода деревьев.\n",
    "\n",
    "- [CSS-селектор](https://ru.wikibooks.org/wiki/CSS/%D0%A1%D0%B5%D0%BB%D0%B5%D0%BA%D1%82%D0%BE%D1%80%D1%8B) (это когда мы ищем элемент страницы по паре ключ, значение)\n",
    "- XPath  (это когда мы прописываем путь по дереву вот так: /html/body/div[1]/div[3]/div/div[2]/div)\n",
    "- Всякие разные библиотеки для всяких разных языков, например, BeautifulSoup для питона. Именно это библиотеку мы и будем использовать. "
   ]
  },
  {
   "cell_type": "markdown",
   "metadata": {},
   "source": [
    "## 3. Как работает интернет или сказ о Бобе и Алисе"
   ]
  },
  {
   "cell_type": "markdown",
   "metadata": {},
   "source": [
    "Алиса — это веб-сервер. Боб — это обычный компьютер. Боб хочет подсоединиться к Алисе. Как это происходит: \n",
    "\n",
    "* Боб отправляет Алисе последовательности из нулей и единиц. 1 — высокое напряжение, 0 — низкое. Эти последовательности шифруют просьбу Боба подконектиться к Алисе.\n",
    "\n",
    "* Маршрутиризатор Боба собирает все эти последовательности в пакет и отправляет на IP-адрес Алисы. \n",
    "\n",
    "* Пакет Боба проходит несколько промежуточных серверов, которые направляют его к Алисе.\n",
    "\n",
    "* Сервер Алисы получает пакет Боба по своему IP \n",
    "\n",
    "* Сервер Алисы считывает порт назначения пакета. Грубо говоря, IP-адрес, это адрес дома. Порт — это квартира. Пакет передается в веб-сервер.\n",
    "\n",
    "* Веб-сервер получает запрос на какой-то файл и находит его. Файл связывается в новый пакет и через маршрутиризатор отправляется Бобу. Ура! У нас есть интернет. \n",
    "\n",
    "Обратите внимание, что в этой схема браузер использовался ... нигде. Браузер — это относительно недавнее изобретение в истории интернета. Браузер — это довольно полезное приложение для создания пакетов информации. \n"
   ]
  },
  {
   "cell_type": "markdown",
   "metadata": {},
   "source": [
    "## 4. Наш первый запрос\n",
    "\n",
    "Доступ к веб-станицам позволяет получать модуль `requests`. Подгрузим его. Если у вас не установлен этот модуль, то придётся напрячься и установить, прописав в терминале `pip3 install requests`."
   ]
  },
  {
   "cell_type": "code",
   "execution_count": 1,
   "metadata": {
    "collapsed": true
   },
   "outputs": [],
   "source": [
    "import requests"
   ]
  },
  {
   "cell_type": "markdown",
   "metadata": {},
   "source": [
    "Делаем запрос по ссылке `mainpage` и получаем ответ на свой запрос!"
   ]
  },
  {
   "cell_type": "code",
   "execution_count": 2,
   "metadata": {},
   "outputs": [
    {
     "data": {
      "text/plain": [
       "<Response [200]>"
      ]
     },
     "execution_count": 2,
     "metadata": {},
     "output_type": "execute_result"
    }
   ],
   "source": [
    "main_page = 'https://www.cian.ru/cat.php?deal_type=sale&engine_version=2&offer_type=flat&region=1&room1=1&room2=1'\n",
    "response = requests.get(main_page)\n",
    "response"
   ]
  },
  {
   "cell_type": "markdown",
   "metadata": {},
   "source": [
    "Благословенный 200 ответ - соединение установлено и данные получены, всё чудесно! Если попытаться перейти на несуществующую страницу, то можно получить, например, знаменитую ошибку 404, которая говорит о том, что клиент (Боб) был в состоянии общаться с сервером (Алисой), но не может найти данные согласно запросу.  "
   ]
  },
  {
   "cell_type": "code",
   "execution_count": 3,
   "metadata": {},
   "outputs": [
    {
     "data": {
      "text/plain": [
       "<Response [404]>"
      ]
     },
     "execution_count": 3,
     "metadata": {},
     "output_type": "execute_result"
    }
   ],
   "source": [
    "requests.get('https://www.cian.ru/jhgrgoiogr')"
   ]
  },
  {
   "cell_type": "markdown",
   "metadata": {},
   "source": [
    "Вернёмся к успешному запросу и посмотрим что же такого мы там получили..."
   ]
  },
  {
   "cell_type": "code",
   "execution_count": 4,
   "metadata": {},
   "outputs": [],
   "source": [
    "html = response.content"
   ]
  },
  {
   "cell_type": "markdown",
   "metadata": {},
   "source": [
    "Получили мы что-то вот такое, только подлиннее...\n",
    "\n",
    "````\n",
    "b'\\n\\n<!DOCTYPE html>\\n<html class=\"no-touch\" >\\n    <head>\\n        \\n\\n<!-- Google Analytics Content Experiment code -->\\n<script>function utmx_section(){}function utmx(){}(function(){var\\nk=\\'57940811-35\\',d=document,l=d.location,c=d.cookie;\\nif(l.search.indexOf(\\'utm_expid=\\'+k)>0)return;\\nfunction f(n){if(c){var i=c.indexOf(n+\\'=\\');if(i>-1){var j=c.\\nindexOf(\\';\\',i);return escape(c.substring(i+n.length+1,j<0?c.\\nlength:j))}}}var x=f(\\'__utmx\\'),xx=f(\\'__utmxx\\'),h=l.hash;d.write(\\n\\'<sc\\'+\\'ript src=\"\\'+\\'http\\'+(l.protocol==\\'https:\\'?\\'s://ssl\\':\\n\\'://www\\')+\\'.google-analytics.com/ga_exp.js?\\'+\\'utmxkey=\\'+k+\\n\\'&utmx=\\'+(x?x:\\'\\')+\\'&utmxx=\\'+(xx?xx:\\'\\')+\\'&utmxtime=\\'+new Date().\\nvalueOf()+(h?\\'&utmxhash=\\'+escape(h.substr(1)):\\'\\')+\\n\\'\" type=\"text/javascript\" charset=\"utf-8\"><\\\\/sc\\'+\\'ript>\\')})();\\n</script><script>utmx(\\'url\\',\\'A/B\\');</script>\\n<!-- End of Google Analytics Content Experiment code -->\\n\\n\\n        \\n    \\n            <meta http-equiv=\"Content-Type\" content=\"text/html; charset=utf-8\"/>\\n            <meta name=\"google-site-verification\" content=\"Eig23WXwvPZu3gp9EYVreR61rG4TX1bHQDEG0Di5ZSE\"/>\\n            <meta name=\"apple-mobile-web-app-title\" content=\"\\xd0\\xa6\\xd0\\x98\\xd0\\x90\\xd0\\x9d\">\\n        \\n    <meta name=\"apple-itunes-app\" content=\"app-id=911804296, app-argument=https://www.cian.ru/cat.php?deal_type=sale&amp;engine_version=2&amp;offer_type=flat&amp;region=1&amp;room1=1&amp;room2=1\">\\n\\n    <meta name=\"viewport\" content=\"width=1024, initial-scale=1\">\\n\\n\\n        \\n            <meta property=\"og:type\" content=\"website\"/>\\n            <meta property=\"og:site_name\" content=\"CIAN\"/>\\n            \\n            \\n            \\n                <meta property=\"og:image\" content=\"https://www.cian.ru/static/images/cian-logo-cyrillic-vertical.png\" />\\n            \\n            \\n        \\n\\n        \\n            <title>\\n                \\xd0\\x9a\\xd1\\x83\\xd0\\xbf\\xd0\\xb8\\xd1\\x82\\xd1\\x8c 1, 2-\\xd0\\xba\\xd0\\xbe\\xd0\\xbc\\xd0\\xbd\\xd0\\xb0\\xd1\\x82\\xd0\\xbd\\xd1\\x83\\xd1\\x8e \\xd0\\xba\\xd0\\xb2\\xd0\\xb0\\xd1\\x80\\xd1\\x82\\xd0\\xb8\\xd1\\x80\\xd1\\x83 \\xd0\\xb2 \\xd0\\x9c\\xd0\\xbe\\xd1\\x81\\xd0\\xba\\xd0\\xb2\\xd0\\xb5 \\xe2\\x80\\x94 93 400 \\xd0\\xbe\\xd0\\xb1\\xd1\\x8a\\xd1\\x8f\\xd0\\xb2\\xd0\\xbb\\xd0\\xb5\\xd0\\xbd\\xd0\\xb8\\xd0\\xb9\\n            </title>\\n            \\n                \\n                    <meta name=\"description\" content=\"\\xd0\\x9f\\xd1\\x80\\xd0\\xbe\\xd0\\xb4\\xd0\\xb0\\xd0\\xb6\\xd0\\xb0 1, 2-\\xd0\\xba\\xd0\\xbe\\xd0\\xbc\\xd0\\xbd\\xd0\\xb0\\xd1\\x82\\xd0\\xbd\\xd1\\x8b\\xd1\\x85 \\xd0\\xba\\xd0\\xb2\\xd0\\xb0\\xd1\\x80\\xd1\\x82\\xd0\\xb8\\xd1\\x80 \\xd0\\xb2 \\xd0\\x9c\\xd0\\xbe\\xd1\\x81\\xd0\\xba\\xd0\\xb2\\xd0\\xb5 \\xe2\\x80\\x94 93 400 \\xd0\\xbe\\xd0\\xb1\\xd1\\x8a\\xd1\\x8f\\xd0\\xb2\\xd0\\xbb\\xd0\\xb5\\xd0\\xbd\\xd0\\xb8\\xd0\\xb9\" />\\n                \\n            \\n            \\n                \\n            \\n            \\n            \\n                <meta name=\"robots\" content=\"noindex\" />\\n                <meta name=\"googlebot\" content=\"noindex\" />\\n            \\n            \\n        \\n\\n        <link rel=\"icon\" href=\"/static/images/favicon.ico\" type=\"image/x-icon\"/>\\n\\n        \\n    <!--[if lte IE 10]>\\n        <link rel=\"stylesheet\" type=\"text/css\" href=\"/static/fonts/webfont_ie.css\" media=\"all\"/>\\n    <![endif]-->\\n\\n    <link rel=\"stylesheet\" type=\"text/css\" href=\"/static/newbuild/dist/serp.40208471dedc.css\" media=\"all\"/>\\n\\n\\n        <script type=\"text/javascript\" src=\"//sentry.cian.site/sentry.min.js\"></script>\\n        \\n    \\n\\n\\n\\n    <script type=\"text/javascript\" src=\"//wurfl.io/wurfl.js\"></script>\\n    <script src=\"/static/scripts/adfox.asyn.code.ver3.js\"></script>\\n    <script src=\"/static/scripts/adfox.asyn.code.scroll.js\"></script>\\n    <script src=\"/static/scripts/af.min.js\"></script>\\n    <script type=\"text/javascript\">if (typeof window.cianConfig === \"undefined\") {window.cianConfig = {}}</script>\\n    <script>\\n        window.cianConfig.user = {\\n            isAuthenticated: false\\n        }\\n         window.cianConfig.admitad = {\\n            campaign_code: {\\n              lead: \\'161a0791df\\',\\n              subscription: \\'f28743aabc\\'\\n            },\\n            client_id: \\'\\',\\n            old_consumer: \\'0\\',\\n            action_code: 1,\\n            tariffcode: 1,\\n        };\\n    </script>\\n\\n    <script type=\"text/javascript\" src=\"/static/scripts/serp-scripts.min.js\"></script>\\n    <script type=\"text/javascript\" data-aload=\"/static/scripts/serp-scripts-async.min.js\"></script>\\n\\n    <!-- \\xd0\\xa2\\xd1\\x80\\xd0\\xb5\\xd0\\xb1\\xd1\\x83\\xd0\\xb5\\xd1\\x82\\xd1\\x81\\xd1\\x8f \\xd0\\xb4\\xd0\\xbb\\xd1\\x8f \\xd1\\x80\\xd0\\xb0\\xd1\\x81\\xd1\\x85\\xd0\\xbb\\xd0\\xbe\\xd0\\xbf\\xd0\\xb0 \\xd1\\x81 \\xd1\\x82\\xd0\\xb5\\xd0\\xbb\\xd0\\xb5\\xd1\\x84\\xd0\\xbe\\xd0\\xbd\\xd0\\xb0\\xd0\\xbc\\xd0\\xb8 \\xd0\\xb7\\xd0\\xb0\\xd1\\x81\\xd1\\x82\\xd1\\x80\\xd0\\xbe\\xd0\\xb9\\xd1\\x89\\xd0\\xb8\\xd0\\xba\\xd0\\xb0 \\xd0\\xb4\\xd0\\xbb\\xd1\\x8f \\xd1\\x88\\xd0\\xb0\\xd0\\xbf\\xd0\\xba\\xd0\\xb8 \\xd0\\x96\\xd0\\x9a -->\\n    \\n\\n    \\n\\n    <script type=\"text/javascript\" src=\"/scripts-bundle/cian/common.js?v=11.2-41\"></script>\\n\\n    \\n\\n    \\n    <script>\\n        if (typeof window.cianConfig === \"undefined\") {\\n            window.cianConfig = {};\\n        }\\n        window._userInfo = {\\n            \\n        };\\n        window.cianConfig.criteo = {\\n   \n",
    "````"
   ]
  },
  {
   "cell_type": "markdown",
   "metadata": {},
   "source": [
    "Можно ли работать с этим ужасом? Ну... на самом деле да, но лучше не пробовать. Давайте сделаем всё красиво и используем для этого красивый суп! "
   ]
  },
  {
   "cell_type": "markdown",
   "metadata": {},
   "source": [
    "## 5. Красивый суп\n",
    "\n",
    "<img align=\"center\" src=\"https://www.crummy.com/software/BeautifulSoup/10.1.jpg\" height=\"200\" width=\"200\"> \n",
    "\n",
    "Пакет **[`bs4`](https://www.crummy.com/software/BeautifulSoup/)**, a.k.a **BeautifulSoup** (тут есть гиперссылка на лучшего друга человека — документацию) был назван в честь стишка про красивый суп из Алисы в стране чудес. В чём был смысл этого стишка, я не помню. Однако я помню зачем нужен этот пакет.\n",
    "\n",
    "Красивый суп. Эта совершенно волшебная библиотека, которая из сырого и необработанного HTML (или XML) кода страницы выдаст вам структурированный массив данных, по которому очень удобно искать необходимые теги, классы, атрибуты, тексты и прочие элементы веб страниц.\n",
    "\n",
    "> Пакет под названием `BeautifulSoup` — скорее всего, не то, что вам нужно. Это третья версия (*Beautiful Soup 3*), а мы будем использовать четвертую. Так что нам нужен пакет `beautifulsoup4`. Чтобы было совсем весело, при импорте нужно указывать другое название пакета — `bs4`, а импортировать функцию под названием `BeautifulSoup`. В общем, сначала легко запутаться, но эти трудности нужно преодолеть однажды, а потом будет проще."
   ]
  },
  {
   "cell_type": "code",
   "execution_count": 5,
   "metadata": {
    "collapsed": true
   },
   "outputs": [],
   "source": [
    "from bs4 import BeautifulSoup"
   ]
  },
  {
   "cell_type": "markdown",
   "metadata": {},
   "source": [
    "Передадим функции `BeautifulSoup` текст веб-страницы, которую мы недавно получили."
   ]
  },
  {
   "cell_type": "code",
   "execution_count": 6,
   "metadata": {},
   "outputs": [],
   "source": [
    "soup = BeautifulSoup(html,'html.parser') # В опции также можно указать lxml, \n",
    "                                         # если предварительно установить одноименный пакет"
   ]
  },
  {
   "cell_type": "markdown",
   "metadata": {},
   "source": [
    "````\n",
    "<!DOCTYPE html>\n",
    "\n",
    "<html class=\"no-touch\">\n",
    "<head>\n",
    "<!-- Google Analytics Content Experiment code -->\n",
    "<script>function utmx_section(){}function utmx(){}(function(){var\n",
    "k='57940811-35',d=document,l=d.location,c=d.cookie;\n",
    "if(l.search.indexOf('utm_expid='+k)>0)return;\n",
    "function f(n){if(c){var i=c.indexOf(n+'=');if(i>-1){var j=c.\n",
    "indexOf(';',i);return escape(c.substring(i+n.length+1,j<0?c.\n",
    "length:j))}}}var x=f('__utmx'),xx=f('__utmxx'),h=l.hash;d.write(\n",
    "'<sc'+'ript src=\"'+'http'+(l.protocol=='https:'?'s://ssl':\n",
    "'://www')+'.google-analytics.com/ga_exp.js?'+'utmxkey='+k+\n",
    "'&utmx='+(x?x:'')+'&utmxx='+(xx?xx:'')+'&utmxtime='+new Date().\n",
    "valueOf()+(h?'&utmxhash='+escape(h.substr(1)):'')+\n",
    "'\" type=\"text/javascript\" charset=\"utf-8\"><\\/sc'+'ript>')})();\n",
    "</script><script>utmx('url','A/B');</script>\n",
    "<!-- End of Google Analytics Content Experiment code -->\n",
    "<meta content=\"text/html; charset=utf-8\" http-equiv=\"Content-Type\"/>\n",
    "<meta content=\"Eig23WXwvPZu3gp9EYVreR61rG4TX1bHQDEG0Di5ZSE\" name=\"google-site-verification\"/>\n",
    "<meta content=\"ЦИАН\" name=\"apple-mobile-web-app-title\">\n",
    "<meta content=\"app-id=911804296, app-argument=https://www.cian.ru/cat.php?deal_type=sale&amp;engine_version=2&amp;offer_type=flat&amp;region=1&amp;room1=1&amp;room2=1\" name=\"apple-itunes-app\">\n",
    "<meta content=\"width=1024, initial-scale=1\" name=\"viewport\">\n",
    "<meta content=\"website\" property=\"og:type\"/>\n",
    "<meta content=\"CIAN\" property=\"og:site_name\"/>\n",
    "<meta content=\"https://www.cian.ru/static/images/cian-logo-cyrillic-vertical.png\" property=\"og:image\"/>\n",
    "<title>\n",
    "                Купить 1, 2-комнатную квартиру в Москве — 93 400 объявлений\n",
    "            </title>\n",
    "<meta content=\"Продажа 1, 2-комнатных квартир в Москве — 93 400 объявлений\" name=\"description\"/>\n",
    "<meta content=\"noindex\" name=\"robots\"/>\n",
    "<meta content=\"noindex\" name=\"googlebot\"/>\n",
    "<link href=\"/static/images/favicon.ico\" rel=\"icon\" type=\"image/x-icon\"/>\n",
    "<!--[if lte IE 10]>\n",
    "        <link rel=\"stylesheet\" type=\"text/css\" href=\"/static/fonts/webfont_ie.css\" media=\"all\"/>\n",
    "    <![endif]-->\n",
    "<link href=\"/static/newbuild/dist/serp.40208471dedc.css\" media=\"all\" rel=\"stylesheet\" type=\"text/css\"/>\n",
    "<script src=\"//sentry.cian.site/sentry.min.js\" type=\"text/javascript\"></script>\n",
    "<script src=\"//wurfl.io/wurfl.js\" type=\"text/javascript\"></script>\n",
    "<script src=\"/static/scripts/adfox.asyn.code.ver3.js\"></script>\n",
    "<script src=\"/static/scripts/adfox.asyn.code.scroll.js\"></script>\n",
    "<script src=\"/static/scripts/af.min.js\"></script>\n",
    "<script type=\"text/javascript\">if (typeof window.cianConfig === \"undefined\") {window.cianConfig = {}}</script>\n",
    "<script>\n",
    "````\n",
    "\n",
    "\n",
    "\n",
    "\n",
    "Что же лежит в переменной `soup`? Невнимательный пользователь, скорее всего, скажет,что ничего вообще не изменилось. Тем не менее это не так. Теперь мы можем свободно бродить по HTML-дереву страницы, искать детей, родителей и вытаскивать их! \n",
    "\n",
    "Например, можно бродить по вершинам, указывая путь из тегов."
   ]
  },
  {
   "cell_type": "code",
   "execution_count": 7,
   "metadata": {},
   "outputs": [
    {
     "data": {
      "text/plain": [
       "<title>\n",
       "                Купить 1, 2-комнатную квартиру в Москве — 93 400 объявлений\n",
       "            </title>"
      ]
     },
     "execution_count": 7,
     "metadata": {},
     "output_type": "execute_result"
    }
   ],
   "source": [
    "soup.html.head.title"
   ]
  },
  {
   "cell_type": "markdown",
   "metadata": {},
   "source": [
    "Можно вытащить из того места, куда мы забрели, текст с помощью метода `text`."
   ]
  },
  {
   "cell_type": "code",
   "execution_count": 8,
   "metadata": {},
   "outputs": [
    {
     "data": {
      "text/plain": [
       "'\\n                Купить 1, 2-комнатную квартиру в Москве — 93 400 объявлений\\n            '"
      ]
     },
     "execution_count": 8,
     "metadata": {},
     "output_type": "execute_result"
    }
   ],
   "source": [
    "soup.html.head.title.text"
   ]
  },
  {
   "cell_type": "markdown",
   "metadata": {},
   "source": [
    "Более того, зная адрес элемента, мы сразу можем найти его!"
   ]
  },
  {
   "cell_type": "code",
   "execution_count": 9,
   "metadata": {},
   "outputs": [
    {
     "data": {
      "text/plain": [
       "<div class=\"serp-item__price-col\">\n",
       "<div class=\"serp-item__solid\">\n",
       "        13,19 млн. руб.\n",
       "    </div>\n",
       "<div class=\"serp-item__prop\">\n",
       "        \n",
       "            \n",
       "                253 654 руб.\n",
       "            \n",
       "            за м<sup>2</sup>\n",
       "</div>\n",
       "<div class=\"serp-item__prop\">\n",
       "            свободная\n",
       "        </div>\n",
       "<div class=\"objects_item_ipo objects_item_ipo_serp3\">\n",
       "<!--AdFox START-->\n",
       "<!--cian-->\n",
       "<!--Площадка: Cian.ru / Результаты поиска / Ипотека в поиске-->\n",
       "<!--Категория: <не задана>-->\n",
       "<!--Тип баннера: (cian) Ипотека в поиске-->\n",
       "<!-- ________________________AdFox Asynchronous code START__________________________ -->\n",
       "<div id=\"adfox_serp_item_mortgage_581258360\"></div>\n",
       "<script type=\"text/javascript\">\n",
       "  setTimeout(function() {\n",
       "    if (typeof(pr) == 'undefined') { var pr = Math.floor(Math.random() * 4294967295) + 1; }\n",
       "    if (typeof(document.referrer) != 'undefined') {\n",
       "      if (typeof(afReferrer) == 'undefined') {\n",
       "        afReferrer = encodeURIComponent(document.referrer);\n",
       "      }\n",
       "    } else {\n",
       "      afReferrer = '';\n",
       "    }\n",
       "    var addate = new Date();\n",
       "\n",
       "\n",
       "    var dl = encodeURIComponent(document.location);\n",
       "    var pr1 = Math.floor(Math.random() * 4294967295) + 1;\n",
       "    var ip = encodeURI(encodeURI('puid16=вторичка, кирпично-монолитный&amp;puid15=https://cdn.cian.site/2/020/132/kvartira-moskva-michurinskiy-prospekt-231020230-1.jpg&amp;puid14=Москва, район Раменки, Мичуринский просп., 13&amp;puid13=13190000.0&amp;puid12=156055236'));\n",
       "\n",
       "    (function(){\n",
       "    var elem = document.getElementById('adfox_serp_item_mortgage_581258360');\n",
       "    elem.setAttribute('id', 'adfox_serp_item_mortgage_581258360' + pr1);\n",
       "    elem.innerHTML = '<div id=\"AdFox_banner_'+pr1+'\" style=\"height: 100%;\"></div>';\n",
       "    elem.innerHTML += '<div style=\"visibility:hidden; position:absolute;\"><iframe id=\"AdFox_iframe_'+pr1+'\" width=1 height=1 marginwidth=0 marginheight=0 scrolling=no frameborder=0></iframe></div>';\n",
       "    })();\n",
       "\n",
       "    if (typeof AdFox_getCodeScript === 'function') {\n",
       "      AdFox_getCodeScript(1,pr1,'//ads.adfox.ru/202100/prepareCode?p1=bqajz&amp;p2=ezvd&amp;pct=a&amp;pfc=a&amp;pfb=a&amp;plp=a&amp;pli=a&amp;pop=a&amp;pr=' + pr +'&amp;pt=b&amp;pd=' + addate.getDate() + '&amp;pw=' + addate.getDay() + '&amp;pv=' + addate.getHours() + '&amp;prr=' + afReferrer + '&amp;puid19=not_video&amp;puid17=false&amp;puid16=false&amp;puid10=no_agent&amp;puid7=2323&amp;puid6=10001_15000&amp;puid5=obl_id_1&amp;puid4=offer_type_2&amp;puid3=sale_type_second&amp;puid2=offer_flat&amp;puid1=deal_type_sale&amp;puid9=140&amp;puid8=13190000&amp;'+ip+'&amp;dl='+dl+'&amp;pr1='+pr1);\n",
       "    }\n",
       "  }, 0);\n",
       "</script>\n",
       "<!-- _________________________AdFox Asynchronous code END___________________________ -->\n",
       "</div>\n",
       "</div>"
      ]
     },
     "execution_count": 9,
     "metadata": {},
     "output_type": "execute_result"
    }
   ],
   "source": [
    "obj = soup.find('div', attrs = {'class':\"serp-item__price-col\"})\n",
    "obj"
   ]
  },
  {
   "cell_type": "markdown",
   "metadata": {},
   "source": [
    "Полученный после поиска объект также обладает структурой bs4. Поэтому можно продолжить искать нужные нам объекты уже в нём! "
   ]
  },
  {
   "cell_type": "code",
   "execution_count": 10,
   "metadata": {},
   "outputs": [
    {
     "data": {
      "text/plain": [
       "<div class=\"serp-item__solid\">\n",
       "        13,19 млн. руб.\n",
       "    </div>"
      ]
     },
     "execution_count": 10,
     "metadata": {},
     "output_type": "execute_result"
    }
   ],
   "source": [
    "obj2 = obj.find('div', attrs = {'class':\"serp-item__solid\"})\n",
    "obj2"
   ]
  },
  {
   "cell_type": "code",
   "execution_count": 11,
   "metadata": {},
   "outputs": [
    {
     "data": {
      "text/plain": [
       "'\\n        13,19 млн. руб.\\n    '"
      ]
     },
     "execution_count": 11,
     "metadata": {},
     "output_type": "execute_result"
    }
   ],
   "source": [
    "obj2.text"
   ]
  },
  {
   "cell_type": "markdown",
   "metadata": {},
   "source": [
    "Эх! Удалить бы ещё значки `\\n`, которые означают смену строки и лишние пробелы... Сказано — сделано! Лишние пробелы убирает метод `strip`! "
   ]
  },
  {
   "cell_type": "code",
   "execution_count": 12,
   "metadata": {},
   "outputs": [
    {
     "data": {
      "text/plain": [
       "'13,19 млн. руб.'"
      ]
     },
     "execution_count": 12,
     "metadata": {},
     "output_type": "execute_result"
    }
   ],
   "source": [
    "obj2.text.strip()"
   ]
  },
  {
   "cell_type": "markdown",
   "metadata": {},
   "source": [
    "Обратите внимание, что после всех этих безумных преобразований у данных поменялся тип. Теперь они str. "
   ]
  },
  {
   "cell_type": "code",
   "execution_count": 13,
   "metadata": {},
   "outputs": [
    {
     "data": {
      "text/plain": [
       "str"
      ]
     },
     "execution_count": 13,
     "metadata": {},
     "output_type": "execute_result"
    }
   ],
   "source": [
    "type(obj2.text.strip())"
   ]
  },
  {
   "cell_type": "markdown",
   "metadata": {},
   "source": [
    "Если несколько элементов на странице обладают указанным адресом, то метод `find` вернёт только самый первый.  Чтобы найти все элементы с таким адресом, нужно использовать метод `findAll`. На выход будет выдан список!"
   ]
  },
  {
   "cell_type": "code",
   "execution_count": 14,
   "metadata": {},
   "outputs": [
    {
     "data": {
      "text/plain": [
       "<div class=\"serp-item__solid\">\n",
       "        13,19 млн. руб.\n",
       "    </div>"
      ]
     },
     "execution_count": 14,
     "metadata": {},
     "output_type": "execute_result"
    }
   ],
   "source": [
    "dirty_prices = soup.findAll('div', attrs = {'class':\"serp-item__price-col\"})\n",
    "dirty_prices[0].findAll('div',{'class':\"serp-item__solid\"})[0]"
   ]
  },
  {
   "cell_type": "markdown",
   "metadata": {},
   "source": [
    "Повторим поиск. Сделаем это для каждого элемента из нашего нового списка..."
   ]
  },
  {
   "cell_type": "code",
   "execution_count": 15,
   "metadata": {},
   "outputs": [
    {
     "data": {
      "text/plain": [
       "['13,19 млн. руб.',\n",
       " '19,5 млн. руб.',\n",
       " '5,7 млн. руб.',\n",
       " '1,73 млн. руб.',\n",
       " '1,79 млн. руб.',\n",
       " '1,8 млн. руб.',\n",
       " '1,8 млн. руб.',\n",
       " '1,85 млн. руб.',\n",
       " '1,88 млн. руб.',\n",
       " '1,9 млн. руб.']"
      ]
     },
     "execution_count": 15,
     "metadata": {},
     "output_type": "execute_result"
    }
   ],
   "source": [
    "clean_prices = [item.find('div', attrs = {'class':\"serp-item__solid\"}).text.strip() for item in dirty_prices]\n",
    "clean_prices[:10]"
   ]
  },
  {
   "cell_type": "markdown",
   "metadata": {},
   "source": [
    "Собственно говоря, это всё. Полученные нами данные оказались немного грязноватыми. Везде есть слово `руб`, где-то стоимости указаны в тысячах, а где-то в миллионах...  Пока что бросим их в таком виде. Мало ли среди большого массива, который мы намерены скачать, есть ещё какие-то неточности. Лучше произвести очистку после выкачивания. **Данные всегда лучше сохранять в грязном виде!** Оформим всё это дело в виде функции, чтобы прям красиво было..."
   ]
  },
  {
   "cell_type": "code",
   "execution_count": 16,
   "metadata": {},
   "outputs": [
    {
     "name": "stdout",
     "output_type": "stream",
     "text": [
      "['13,19 млн. руб.', '19,5 млн. руб.', '5,7 млн. руб.', '1,73 млн. руб.', '1,79 млн. руб.', '1,8 млн. руб.', '1,8 млн. руб.', '1,85 млн. руб.', '1,88 млн. руб.', '1,9 млн. руб.', '1,9 млн. руб.', '1,95 млн. руб.', '1,99 млн. руб.', '1,99 млн. руб.', '1,99 млн. руб.', '2,2 млн. руб.', '2,2 млн. руб.', '2,21 млн. руб.', '2,24 млн. руб.', '2,24 млн. руб.', '2,3 млн. руб.', '2,39 млн. руб.', '2,4 млн. руб.', '2,44 млн. руб.', '2,44 млн. руб.', '2,5 млн. руб.', '2,5 млн. руб.', '2,51 млн. руб.']\n"
     ]
    }
   ],
   "source": [
    "def FlatPriceFinder(soup):\n",
    "    dirty_prices = soup.findAll('div', attrs = {'class':\"serp-item__price-col\"})\n",
    "    clean_prices = [item.find('div', attrs = {'class':\"serp-item__solid\"}).text.strip() for item in dirty_prices]\n",
    "    return(clean_prices)\n",
    "\n",
    "print(FlatPriceFinder(soup))"
   ]
  },
  {
   "cell_type": "markdown",
   "metadata": {},
   "source": [
    "Попробуем скачать ещё что-нибудь таким способом! Например, метраж!"
   ]
  },
  {
   "cell_type": "code",
   "execution_count": 17,
   "metadata": {},
   "outputs": [
    {
     "name": "stdout",
     "output_type": "stream",
     "text": [
      "[<div class=\"serp-item__area-col\">\n",
      "<div class=\"serp-item__solid\">52 м<sup>2</sup></div>\n",
      "<div class=\"serp-item__prop\">\n",
      "        кухня 9 м<sup>2</sup>\n",
      "</div>\n",
      "<div class=\"serp-item__prop\">\n",
      "        жилая 28 м<sup>2</sup>\n",
      "</div>\n",
      "</div>, <div class=\"serp-item__area-col\">\n",
      "<div class=\"serp-item__solid\">50 м<sup>2</sup></div>\n",
      "<div class=\"serp-item__prop\">\n",
      "        кухня 18,7 м<sup>2</sup>\n",
      "</div>\n",
      "<div class=\"serp-item__prop\">\n",
      "        жилая 14 м<sup>2</sup>\n",
      "</div>\n",
      "</div>, <div class=\"serp-item__area-col\">\n",
      "<div class=\"serp-item__solid\">52 м<sup>2</sup></div>\n",
      "<div class=\"serp-item__prop\">\n",
      "        кухня 9 м<sup>2</sup>\n",
      "</div>\n",
      "<div class=\"serp-item__prop\">\n",
      "        жилая 32 м<sup>2</sup>\n",
      "</div>\n",
      "</div>, <div class=\"serp-item__area-col\">\n",
      "<div class=\"serp-item__solid\">34 м<sup>2</sup></div>\n",
      "<div class=\"serp-item__prop\">\n",
      "        кухня 10 м<sup>2</sup>\n",
      "</div>\n",
      "<div class=\"serp-item__prop\">\n",
      "        жилая 18 м<sup>2</sup>\n",
      "</div>\n",
      "</div>, <div class=\"serp-item__area-col\">\n",
      "<div class=\"serp-item__solid\">11 м<sup>2</sup></div>\n",
      "</div>, <div class=\"serp-item__area-col\">\n",
      "<div class=\"serp-item__solid\">34 м<sup>2</sup></div>\n",
      "<div class=\"serp-item__prop\">\n",
      "        кухня 10,2 м<sup>2</sup>\n",
      "</div>\n",
      "<div class=\"serp-item__prop\">\n",
      "        жилая 18,1 м<sup>2</sup>\n",
      "</div>\n",
      "</div>, <div class=\"serp-item__area-col\">\n",
      "<div class=\"serp-item__solid\">35 м<sup>2</sup></div>\n",
      "<div class=\"serp-item__prop\">\n",
      "        кухня 10,8 м<sup>2</sup>\n",
      "</div>\n",
      "<div class=\"serp-item__prop\">\n",
      "        жилая 18,1 м<sup>2</sup>\n",
      "</div>\n",
      "</div>, <div class=\"serp-item__area-col\">\n",
      "<div class=\"serp-item__solid\">34 м<sup>2</sup></div>\n",
      "<div class=\"serp-item__prop\">\n",
      "        кухня 10,2 м<sup>2</sup>\n",
      "</div>\n",
      "<div class=\"serp-item__prop\">\n",
      "        жилая 18,1 м<sup>2</sup>\n",
      "</div>\n",
      "</div>, <div class=\"serp-item__area-col\">\n",
      "<div class=\"serp-item__solid\">27 м<sup>2</sup></div>\n",
      "<div class=\"serp-item__prop\">\n",
      "        кухня 4 м<sup>2</sup>\n",
      "</div>\n",
      "<div class=\"serp-item__prop\">\n",
      "        жилая 20 м<sup>2</sup>\n",
      "</div>\n",
      "</div>, <div class=\"serp-item__area-col\">\n",
      "<div class=\"serp-item__solid\">35 м<sup>2</sup></div>\n",
      "<div class=\"serp-item__prop\">\n",
      "        кухня 10,8 м<sup>2</sup>\n",
      "</div>\n",
      "<div class=\"serp-item__prop\">\n",
      "        жилая 18,1 м<sup>2</sup>\n",
      "</div>\n",
      "</div>, <div class=\"serp-item__area-col\">\n",
      "<div class=\"serp-item__solid\">42 м<sup>2</sup></div>\n",
      "<div class=\"serp-item__prop\">\n",
      "        кухня 12 м<sup>2</sup>\n",
      "</div>\n",
      "<div class=\"serp-item__prop\">\n",
      "        жилая 15 м<sup>2</sup>\n",
      "</div>\n",
      "</div>, <div class=\"serp-item__area-col\">\n",
      "<div class=\"serp-item__solid\">34 м<sup>2</sup></div>\n",
      "<div class=\"serp-item__prop\">\n",
      "        кухня 8,3 м<sup>2</sup>\n",
      "</div>\n",
      "<div class=\"serp-item__prop\">\n",
      "        жилая 17,5 м<sup>2</sup>\n",
      "</div>\n",
      "</div>, <div class=\"serp-item__area-col\">\n",
      "<div class=\"serp-item__solid\">38 м<sup>2</sup></div>\n",
      "<div class=\"serp-item__prop\">\n",
      "        кухня 10 м<sup>2</sup>\n",
      "</div>\n",
      "<div class=\"serp-item__prop\">\n",
      "        жилая 19 м<sup>2</sup>\n",
      "</div>\n",
      "</div>, <div class=\"serp-item__area-col\">\n",
      "<div class=\"serp-item__solid\">27 м<sup>2</sup></div>\n",
      "<div class=\"serp-item__prop\">\n",
      "        кухня 2,5 м<sup>2</sup>\n",
      "</div>\n",
      "<div class=\"serp-item__prop\">\n",
      "        жилая 22 м<sup>2</sup>\n",
      "</div>\n",
      "</div>, <div class=\"serp-item__area-col\">\n",
      "<div class=\"serp-item__solid\">32 м<sup>2</sup></div>\n",
      "<div class=\"serp-item__prop\">\n",
      "        жилая 25 м<sup>2</sup>\n",
      "</div>\n",
      "</div>, <div class=\"serp-item__area-col\">\n",
      "<div class=\"serp-item__solid\">17 м<sup>2</sup></div>\n",
      "<div class=\"serp-item__prop\">\n",
      "        жилая 14 м<sup>2</sup>\n",
      "</div>\n",
      "</div>, <div class=\"serp-item__area-col\">\n",
      "<div class=\"serp-item__solid\">42 м<sup>2</sup></div>\n",
      "<div class=\"serp-item__prop\">\n",
      "        кухня 11,5 м<sup>2</sup>\n",
      "</div>\n",
      "<div class=\"serp-item__prop\">\n",
      "        жилая 18 м<sup>2</sup>\n",
      "</div>\n",
      "</div>, <div class=\"serp-item__area-col\">\n",
      "<div class=\"serp-item__solid\">21 м<sup>2</sup></div>\n",
      "<div class=\"serp-item__prop\">\n",
      "        жилая 12,5 м<sup>2</sup>\n",
      "</div>\n",
      "</div>, <div class=\"serp-item__area-col\">\n",
      "<div class=\"serp-item__solid\">22 м<sup>2</sup></div>\n",
      "</div>, <div class=\"serp-item__area-col\">\n",
      "<div class=\"serp-item__solid\">23 м<sup>2</sup></div>\n",
      "<div class=\"serp-item__prop\">\n",
      "        жилая 15,8 м<sup>2</sup>\n",
      "</div>\n",
      "</div>, <div class=\"serp-item__area-col\">\n",
      "<div class=\"serp-item__solid\">22 м<sup>2</sup></div>\n",
      "<div class=\"serp-item__prop\">\n",
      "        жилая 14,3 м<sup>2</sup>\n",
      "</div>\n",
      "</div>, <div class=\"serp-item__area-col\">\n",
      "<div class=\"serp-item__solid\">26 м<sup>2</sup></div>\n",
      "<div class=\"serp-item__prop\">\n",
      "        жилая 24 м<sup>2</sup>\n",
      "</div>\n",
      "</div>, <div class=\"serp-item__area-col\">\n",
      "<div class=\"serp-item__solid\">37 м<sup>2</sup></div>\n",
      "<div class=\"serp-item__prop\">\n",
      "        кухня 12,4 м<sup>2</sup>\n",
      "</div>\n",
      "<div class=\"serp-item__prop\">\n",
      "        жилая 16,5 м<sup>2</sup>\n",
      "</div>\n",
      "</div>, <div class=\"serp-item__area-col\">\n",
      "<div class=\"serp-item__solid\">23 м<sup>2</sup></div>\n",
      "<div class=\"serp-item__prop\">\n",
      "        кухня 5 м<sup>2</sup>\n",
      "</div>\n",
      "<div class=\"serp-item__prop\">\n",
      "        жилая 11,2 м<sup>2</sup>\n",
      "</div>\n",
      "</div>, <div class=\"serp-item__area-col\">\n",
      "<div class=\"serp-item__solid\">25 м<sup>2</sup></div>\n",
      "<div class=\"serp-item__prop\">\n",
      "        жилая 16,4 м<sup>2</sup>\n",
      "</div>\n",
      "</div>, <div class=\"serp-item__area-col\">\n",
      "<div class=\"serp-item__solid\">30 м<sup>2</sup></div>\n",
      "<div class=\"serp-item__prop\">\n",
      "        жилая 21,5 м<sup>2</sup>\n",
      "</div>\n",
      "</div>, <div class=\"serp-item__area-col\">\n",
      "<div class=\"serp-item__solid\">48 м<sup>2</sup></div>\n",
      "<div class=\"serp-item__prop\">\n",
      "        кухня 1 м<sup>2</sup>\n",
      "</div>\n",
      "<div class=\"serp-item__prop\">\n",
      "        жилая 35 м<sup>2</sup>\n",
      "</div>\n",
      "</div>, <div class=\"serp-item__area-col\">\n",
      "<div class=\"serp-item__solid\">25 м<sup>2</sup></div>\n",
      "<div class=\"serp-item__prop\">\n",
      "        жилая 16,4 м<sup>2</sup>\n",
      "</div>\n",
      "</div>]\n"
     ]
    }
   ],
   "source": [
    "obj1 = soup.findAll('div',{'class':\"serp-item__area-col\"})\n",
    "print(obj1)"
   ]
  },
  {
   "cell_type": "code",
   "execution_count": 18,
   "metadata": {},
   "outputs": [
    {
     "name": "stdout",
     "output_type": "stream",
     "text": [
      "['52\\xa0м2', '50\\xa0м2', '52\\xa0м2', '34\\xa0м2', '11\\xa0м2', '34\\xa0м2', '35\\xa0м2', '34\\xa0м2', '27\\xa0м2', '35\\xa0м2', '42\\xa0м2', '34\\xa0м2', '38\\xa0м2', '27\\xa0м2', '32\\xa0м2', '17\\xa0м2', '42\\xa0м2', '21\\xa0м2', '22\\xa0м2', '23\\xa0м2', '22\\xa0м2', '26\\xa0м2', '37\\xa0м2', '23\\xa0м2', '25\\xa0м2', '30\\xa0м2', '48\\xa0м2', '25\\xa0м2']\n"
     ]
    }
   ],
   "source": [
    "obj2  = [item.findAll('div',{'class':\"serp-item__solid\"})[0].text for item in obj1]\n",
    "print(obj2)"
   ]
  },
  {
   "cell_type": "markdown",
   "metadata": {},
   "source": [
    "В принципе, по большей части, это всё. Все остальные кусочки с ЦИАН забираются аналогичным образом. Пишем ещё с десяток подобных функций! И всё хорошо. Однако, если нажать на кнопку \"Подробнее\", мы увидим чудо-чудное, диво-дивное! Дополнительную информацию! \n",
    "\n",
    "\n",
    "<img align=\"center\" src=\"https://raw.githubusercontent.com/FUlyankin/Parsers/master/images%20/3.png\" height=\"700\" width=\"700\">\n"
   ]
  },
  {
   "cell_type": "markdown",
   "metadata": {},
   "source": [
    "## 6. Качаем всё, что плохо лежит!\n",
    "\n",
    "### 6.1 Список из хрефов\n",
    "\n",
    "Для начала соберём все хрефы на квартиры! Уже, как обычно (как же быстро новое становится обычным!), с помощью красивого супа мы найдём ссылки на все хрефы."
   ]
  },
  {
   "cell_type": "code",
   "execution_count": 19,
   "metadata": {},
   "outputs": [
    {
     "name": "stdout",
     "output_type": "stream",
     "text": [
      "28\n"
     ]
    },
    {
     "data": {
      "text/plain": [
       "<div class=\"serp-item__content__bottom__left\">\n",
       "<span class=\"serp-item__print-info\">\n",
       "\t\t\t\t\tID:234339, +7 968 829-33-01\n",
       "\t\t\t\t</span>\n",
       "<a class=\"serp-item__card-link link\" href=\"https://www.cian.ru/sale/flat/156055236/\" target=\"_blank\">Подробнее</a>\n",
       "</div>"
      ]
     },
     "execution_count": 19,
     "metadata": {},
     "output_type": "execute_result"
    }
   ],
   "source": [
    "hrefs = soup.findAll('div', attrs = {'class':\"serp-item__content__bottom__left\"})\n",
    "# убедимся, что мы не насобирали лишнего\n",
    "print(len(hrefs))\n",
    "hrefs[0]"
   ]
  },
  {
   "cell_type": "markdown",
   "metadata": {},
   "source": [
    "Перейдём по вытащенному кусочку с хрефом в часть с тэгом `<a>`, а после вытащим из неё атрибут `href`. Так мы ещё не делали, но так тоже можно... "
   ]
  },
  {
   "cell_type": "code",
   "execution_count": 20,
   "metadata": {},
   "outputs": [
    {
     "data": {
      "text/plain": [
       "'https://www.cian.ru/sale/flat/156055236/'"
      ]
     },
     "execution_count": 20,
     "metadata": {},
     "output_type": "execute_result"
    }
   ],
   "source": [
    "hrefs[0].a.attrs['href']"
   ]
  },
  {
   "cell_type": "markdown",
   "metadata": {},
   "source": [
    "Делаем по аналогии со всеми хрефами!"
   ]
  },
  {
   "cell_type": "code",
   "execution_count": 21,
   "metadata": {},
   "outputs": [
    {
     "name": "stdout",
     "output_type": "stream",
     "text": [
      "['https://www.cian.ru/sale/flat/156055236/', 'https://www.cian.ru/sale/flat/156145585/', 'https://www.cian.ru/sale/flat/152918180/', 'https://www.cian.ru/sale/flat/156514613/', 'https://www.cian.ru/sale/flat/156690149/', 'https://www.cian.ru/sale/flat/156201561/', 'https://www.cian.ru/sale/flat/154412243/', 'https://www.cian.ru/sale/flat/154243990/', 'https://www.cian.ru/sale/flat/155993966/', 'https://www.cian.ru/sale/flat/156209514/', 'https://www.cian.ru/sale/flat/155634565/', 'https://www.cian.ru/sale/flat/153192250/', 'https://www.cian.ru/sale/flat/155818651/', 'https://www.cian.ru/sale/flat/156407537/', 'https://www.cian.ru/sale/flat/156403169/', 'https://www.cian.ru/sale/flat/156542727/', 'https://www.cian.ru/sale/flat/156759762/', 'https://www.cian.ru/sale/flat/151730037/', 'https://www.cian.ru/sale/flat/156725878/', 'https://www.cian.ru/sale/flat/151729500/', 'https://www.cian.ru/sale/flat/151729730/', 'https://www.cian.ru/sale/flat/152578760/', 'https://www.cian.ru/sale/flat/153182392/', 'https://www.cian.ru/sale/flat/156653312/', 'https://www.cian.ru/sale/flat/156654029/', 'https://www.cian.ru/sale/flat/155541376/', 'https://www.cian.ru/sale/flat/155190378/', 'https://www.cian.ru/sale/flat/151730016/']\n"
     ]
    }
   ],
   "source": [
    "clean_hrefs = [item.a.attrs['href'] for item in hrefs]\n",
    "print(clean_hrefs)"
   ]
  },
  {
   "cell_type": "markdown",
   "metadata": {},
   "source": [
    "Нам надо будет путешествовать по огромному длинному списку из квартир, который простирается очень далеко вглубь ЦИАН. Пробираться вглубь сайта можно тыкая на циферки внизу старницы \n",
    "\n",
    "<img align=\"center\" src=\"https://raw.githubusercontent.com/FUlyankin/Parsers/master/images%20/4.png\" height=\"900\" width=\"900\">\n",
    "\n",
    "Как только мы нажимаем на одну из цифр, меняется ссылка.\n",
    "\n",
    "    `https://www.cian.ru/cat.php?deal_type=sale&engine_version=2&offer_type=flat&\n",
    "    p=3&region=1&room1=1&room2=1&room3=1&room4=1&room5=1&room6=1&room7=1&room9=1`\n",
    "   \n",
    "    `https://www.cian.ru/cat.php?deal_type=sale&district%5B0%5D=8&engine_version=2&offer_type=flat&\n",
    "     p=10&room1=1&room2=1&room3=1&room4=1&room5=1&room6=1&room7=1&room9=1`\n",
    "     \n",
    "Обратите внимание на начало второй строки. Когда мы находились на третьей строке, там стояла цифра 3. Как толкьо мы переходим на десятую страницу, цифра меняется на 10. Сама по себе ссылка на квартиры формируется в заисимости от того какие огранчения мы накладываем на квартиры в поиске. Каждое новое ограничение вырождается в новый кусочек ссылки. Например, если наложить ограничения на районы Москвы, то ссылка будет выглядеть вот так: \n",
    "\n",
    "    `https://www.cian.ru/cat.php?deal_type=sale&district%5B0%5D=1&district%5B1%5D=4&\n",
    "    district%5B2%5D=5&district%5B3%5D=6&district%5B4%5D=7&district%5B5%5D=8&district%5B6%5D=9&\n",
    "    district%5B7%5D=10&district%5B8%5D=11&engine_version=2&offer_type=flat&\n",
    "    p=10&room1=1&room2=1&room3=1&room4=1&room5=1&room6=1&room7=1&room9=1`\n",
    "\n",
    "Пройдёмся по всем существующим страницам ЦИАН и заберём себе все ссылки на квартиры! \n",
    "\n",
    "Каждую ссылку будем формировать следующим образом:"
   ]
  },
  {
   "cell_type": "code",
   "execution_count": 22,
   "metadata": {},
   "outputs": [
    {
     "data": {
      "text/plain": [
       "'https://www.cian.ru/cat.php?deal_type=sale&engine_version=2&offer_type=flat&p=42&region=1&room1=1&room2=1&room3=1&room4=1&room5=1&room6=1&room7=1&room9=1'"
      ]
     },
     "execution_count": 22,
     "metadata": {},
     "output_type": "execute_result"
    }
   ],
   "source": [
    "page_part_1 = \"https://www.cian.ru/cat.php?deal_type=sale&engine_version=2&offer_type=flat&p=\"\n",
    "page_part_2 = \"&region=1&room1=1&room2=1&room3=1&room4=1&room5=1&room6=1&room7=1&room9=1\"\n",
    "\n",
    "page = page_part_1 + str(42) + page_part_2  # Мы окжемся на 42 странице\n",
    "page"
   ]
  },
  {
   "cell_type": "markdown",
   "metadata": {},
   "source": [
    "Всего на каждой странице находится 28 ссылок. Вытаскиваем необходимое нам число квартир."
   ]
  },
  {
   "cell_type": "code",
   "execution_count": 23,
   "metadata": {},
   "outputs": [],
   "source": [
    "page_part_1 = \"https://www.cian.ru/cat.php?deal_type=sale&engine_version=2&offer_type=flat&p=\"\n",
    "page_part_2 = \"&region=1&room1=1&room2=1&room3=1&room4=1&room5=1&room6=1&room7=1&room9=1\"\n",
    "\n",
    "all_hrefs = [ ]  # Тут мы будем хранить наши хрефы!\n",
    "\n",
    "for i in range(1,11): # Тут регулируем количество квартир\n",
    "    # Делаем ссылку!\n",
    "    page = page_part_1 + str(i) + page_part_2\n",
    "    \n",
    "    # Загружаем страницу\n",
    "    response = requests.get(page)\n",
    "    html = response.content\n",
    "    soup = BeautifulSoup(html,'html.parser')\n",
    "    \n",
    "    # Забираем себе хрефы и очищаем их\n",
    "    hrefs = soup.findAll('div', attrs = {'class':\"serp-item__content__bottom__left\"})\n",
    "    clean_hrefs = [item.a.attrs['href'] for item in hrefs]\n",
    "    all_hrefs.extend(clean_hrefs)"
   ]
  },
  {
   "cell_type": "code",
   "execution_count": 24,
   "metadata": {},
   "outputs": [
    {
     "data": {
      "text/plain": [
       "280"
      ]
     },
     "execution_count": 24,
     "metadata": {},
     "output_type": "execute_result"
    }
   ],
   "source": [
    "len(all_hrefs)"
   ]
  },
  {
   "cell_type": "markdown",
   "metadata": {},
   "source": [
    "Ого сколько хрефов! Пора качать данные по каждому из них! \n",
    "\n",
    "<img align=\"center\" src=\"https://raw.githubusercontent.com/FUlyankin/Parsers/master/images%20/1.jpg\" height=\"500\" width=\"500\">"
   ]
  },
  {
   "cell_type": "markdown",
   "metadata": {},
   "source": [
    "### 6.2 Качаем данные по конкретному хрефу\n",
    "\n",
    "Перейдём по какому-нибудь одному хрефу и заберём всю информацию о квартире! Вообще всю. "
   ]
  },
  {
   "cell_type": "code",
   "execution_count": 25,
   "metadata": {},
   "outputs": [],
   "source": [
    "response = requests.get(clean_hrefs[0])\n",
    "html = response.content\n",
    "soup = BeautifulSoup(html,'html.parser')"
   ]
  },
  {
   "cell_type": "markdown",
   "metadata": {},
   "source": [
    "Собираем информацию..."
   ]
  },
  {
   "cell_type": "code",
   "execution_count": 26,
   "metadata": {},
   "outputs": [
    {
     "data": {
      "text/plain": [
       "'59 000 000 руб.'"
      ]
     },
     "execution_count": 26,
     "metadata": {},
     "output_type": "execute_result"
    }
   ],
   "source": [
    "price = soup.findAll('div', attrs = {'class':\"object_descr_price\"})[0].text.strip()\n",
    "price"
   ]
  },
  {
   "cell_type": "code",
   "execution_count": 27,
   "metadata": {},
   "outputs": [
    {
     "data": {
      "text/plain": [
       "'Университет,'"
      ]
     },
     "execution_count": 27,
     "metadata": {},
     "output_type": "execute_result"
    }
   ],
   "source": [
    "soup.findAll('p', attrs = {'class':\"objects_item_metro_prg\"})[0].a.text"
   ]
  },
  {
   "cell_type": "code",
   "execution_count": 28,
   "metadata": {},
   "outputs": [
    {
     "data": {
      "text/plain": [
       "'11\\n                мин.\\n                \\n                    на машине'"
      ]
     },
     "execution_count": 28,
     "metadata": {},
     "output_type": "execute_result"
    }
   ],
   "source": [
    "metro_infa = soup.findAll('p', attrs = {'class':\"objects_item_metro_prg\"})[0]\n",
    "metro_infa.find('span',{'class':'object_item_metro_comment'}).text.strip()"
   ]
  },
  {
   "cell_type": "code",
   "execution_count": 29,
   "metadata": {},
   "outputs": [
    {
     "data": {
      "text/plain": [
       "'3-комн. кв.\\xa0\\n    \\n\\n                \\n                    \\n                        в\\xa0ЖК «Золотые Ключи 2»'"
      ]
     },
     "execution_count": 29,
     "metadata": {},
     "output_type": "execute_result"
    }
   ],
   "source": [
    "komnata = soup.findAll('div', attrs = {'class':\"object_descr_title\"})[0].text.strip()\n",
    "komnata"
   ]
  },
  {
   "cell_type": "markdown",
   "metadata": {},
   "source": [
    "Дело осталось за малым. Достать основную информацию о квартире... Посмотрим где она лежит на странице через inspect где она лежит и заметим, что она лежит в таблице! \n",
    "\n",
    "\"Хммм...\", - скажем мы и начнём эту таблицу разгребать. Будем делать это хардкорно, по тэгам. Как настоящие мужики! "
   ]
  },
  {
   "cell_type": "code",
   "execution_count": 30,
   "metadata": {},
   "outputs": [
    {
     "data": {
      "text/plain": [
       "<table class=\"object_descr_props flat sale\" style=\"float:left\">\n",
       "<tr>\n",
       "<th style=\"padding-top:5px;\">Общая информация:</th>\n",
       "</tr>\n",
       "<tr>\n",
       "<th>Этаж:</th>\n",
       "<td>\n",
       "                16 / 18\n",
       "                \n",
       "            </td>\n",
       "</tr>\n",
       "<tr>\n",
       "<th>Тип дома:</th>\n",
       "<td>\n",
       "            вторичка\n",
       "            \n",
       "        </td>\n",
       "</tr>\n",
       "<tr>\n",
       "<th>Тип продажи:</th>\n",
       "<td>свободная</td>\n",
       "</tr>\n",
       "<tr>\n",
       "<th>Общая площадь:</th>\n",
       "<td>\n",
       "<i class=\"object_descr_details_color\"></i>138 м<sup>2</sup>\n",
       "</td>\n",
       "</tr>\n",
       "<tr>\n",
       "<th>Площадь комнат:</th>\n",
       "<td>\n",
       "<i class=\"object_descr_details_color\"></i><!--\n",
       "-->–\n",
       "        </td>\n",
       "</tr>\n",
       "<tr>\n",
       "<th>Жилая площадь:</th>\n",
       "<td>\n",
       "<i class=\"object_descr_details_color\" style=\"background-color:#90C090\"></i>110 м<sup>2</sup>\n",
       "</td>\n",
       "</tr>\n",
       "<tr>\n",
       "<th>Площадь кухни:</th>\n",
       "<td>\n",
       "<i class=\"object_descr_details_color\" style=\"background-color:#C09090\"></i>–\n",
       "        </td>\n",
       "</tr>\n",
       "<tr>\n",
       "<th>Раздельных санузлов:</th>\n",
       "<td><i class=\"object_descr_details_color\" style=\"background-color:#90C0C0\"></i>1\n",
       "            </td>\n",
       "</tr>\n",
       "<tr>\n",
       "<th>Совмещенных санузлов:</th>\n",
       "<td><i class=\"object_descr_details_color\" style=\"background-color:#90C0C0\"></i>1\n",
       "            </td>\n",
       "</tr>\n",
       "<tr>\n",
       "<th>Балкон:</th>\n",
       "<td><i class=\"object_descr_details_color\" style=\"background-color:#C0C0C0\"></i>нет\n",
       "        </td>\n",
       "</tr>\n",
       "<tr>\n",
       "<th>Лифт:</th>\n",
       "<td>1 пасс. + 1 груз.</td>\n",
       "</tr>\n",
       "<tr>\n",
       "<th>Телефон:</th>\n",
       "<td>да</td>\n",
       "</tr>\n",
       "<tr>\n",
       "<th>Вид из окна:</th>\n",
       "<td>двор и улица</td>\n",
       "</tr>\n",
       "</table>"
      ]
     },
     "execution_count": 30,
     "metadata": {},
     "output_type": "execute_result"
    }
   ],
   "source": [
    "table = soup.findAll('table',attrs = {'class':\"object_descr_props flat sale\"})[0]\n",
    "table"
   ]
  },
  {
   "cell_type": "markdown",
   "metadata": {},
   "source": [
    "Вытаскиваем все строки"
   ]
  },
  {
   "cell_type": "code",
   "execution_count": 31,
   "metadata": {},
   "outputs": [
    {
     "data": {
      "text/plain": [
       "<tr>\n",
       "<th>Этаж:</th>\n",
       "<td>\n",
       "                16 / 18\n",
       "                \n",
       "            </td>\n",
       "</tr>"
      ]
     },
     "execution_count": 31,
     "metadata": {},
     "output_type": "execute_result"
    }
   ],
   "source": [
    "rows = table.findAll('tr')[1:]  # В нулевой строке идёт фраза \"Общая информация:\" Забьём на неё! \n",
    "rows[0]  "
   ]
  },
  {
   "cell_type": "markdown",
   "metadata": {},
   "source": [
    "Находим конкретные элементы!"
   ]
  },
  {
   "cell_type": "code",
   "execution_count": 32,
   "metadata": {},
   "outputs": [
    {
     "data": {
      "text/plain": [
       "'Совмещенных санузлов:'"
      ]
     },
     "execution_count": 32,
     "metadata": {},
     "output_type": "execute_result"
    }
   ],
   "source": [
    "rows[8].findAll('th')[0].text.strip()"
   ]
  },
  {
   "cell_type": "code",
   "execution_count": 33,
   "metadata": {},
   "outputs": [
    {
     "data": {
      "text/plain": [
       "'1'"
      ]
     },
     "execution_count": 33,
     "metadata": {},
     "output_type": "execute_result"
    }
   ],
   "source": [
    "rows[8].findAll('td')[0].text.strip()"
   ]
  },
  {
   "cell_type": "markdown",
   "metadata": {},
   "source": [
    "Такимии незатейливыми действиями вытащили отдельный объект из отдельной строки. А теперь всё сразу в виде двух циклов:"
   ]
  },
  {
   "cell_type": "code",
   "execution_count": 34,
   "metadata": {},
   "outputs": [
    {
     "data": {
      "text/plain": [
       "[['Этаж:', '16\\xa0/\\xa018'],\n",
       " ['Тип дома:', 'вторичка'],\n",
       " ['Тип продажи:', 'свободная'],\n",
       " ['Общая площадь:', '138\\xa0м2'],\n",
       " ['Площадь комнат:', '–'],\n",
       " ['Жилая площадь:', '110\\xa0м2'],\n",
       " ['Площадь кухни:', '–'],\n",
       " ['Раздельных санузлов:', '1'],\n",
       " ['Совмещенных санузлов:', '1'],\n",
       " ['Балкон:', 'нет'],\n",
       " ['Лифт:', '1 пасс. + 1 груз.'],\n",
       " ['Телефон:', 'да'],\n",
       " ['Вид из окна:', 'двор и улица']]"
      ]
     },
     "execution_count": 34,
     "metadata": {},
     "output_type": "execute_result"
    }
   ],
   "source": [
    "rows = table.find_all('tr')[1:]  # Вытащили все строки\n",
    "data = [ ]  # Задали пустой список, в который мы будем сохранять строки \n",
    "for row in rows:\n",
    "    cols = [row.findAll('th')[0].text.strip(),row.findAll('td')[0].text.strip()] # очищаем каждую строку! \n",
    "    data.append(cols) # запоминаем\n",
    "data "
   ]
  },
  {
   "cell_type": "markdown",
   "metadata": {},
   "source": [
    "Чуток всё это облагородим. Подгрузим пакет, который носит гордое название pandas! Подробнее про этот пакет мы поговорим немного позже. Если быть кратким, то pandas используется для работы с таблицами. Превратим наш список из списков в красивую удобную табличку. "
   ]
  },
  {
   "cell_type": "code",
   "execution_count": 35,
   "metadata": {},
   "outputs": [
    {
     "data": {
      "text/html": [
       "<div>\n",
       "<table border=\"1\" class=\"dataframe\">\n",
       "  <thead>\n",
       "    <tr style=\"text-align: right;\">\n",
       "      <th></th>\n",
       "      <th>0</th>\n",
       "      <th>1</th>\n",
       "    </tr>\n",
       "  </thead>\n",
       "  <tbody>\n",
       "    <tr>\n",
       "      <th>0</th>\n",
       "      <td>Этаж:</td>\n",
       "      <td>16 / 18</td>\n",
       "    </tr>\n",
       "    <tr>\n",
       "      <th>1</th>\n",
       "      <td>Тип дома:</td>\n",
       "      <td>вторичка</td>\n",
       "    </tr>\n",
       "    <tr>\n",
       "      <th>2</th>\n",
       "      <td>Тип продажи:</td>\n",
       "      <td>свободная</td>\n",
       "    </tr>\n",
       "    <tr>\n",
       "      <th>3</th>\n",
       "      <td>Общая площадь:</td>\n",
       "      <td>138 м2</td>\n",
       "    </tr>\n",
       "    <tr>\n",
       "      <th>4</th>\n",
       "      <td>Площадь комнат:</td>\n",
       "      <td>–</td>\n",
       "    </tr>\n",
       "  </tbody>\n",
       "</table>\n",
       "</div>"
      ],
      "text/plain": [
       "                 0          1\n",
       "0            Этаж:    16 / 18\n",
       "1        Тип дома:   вторичка\n",
       "2     Тип продажи:  свободная\n",
       "3   Общая площадь:     138 м2\n",
       "4  Площадь комнат:          –"
      ]
     },
     "execution_count": 35,
     "metadata": {},
     "output_type": "execute_result"
    }
   ],
   "source": [
    "import pandas as pd       # Сначала подгрузим пакет! Если его у вас нет, открывайте консоль!\n",
    "data = pd.DataFrame(data)\n",
    "data.head()"
   ]
  },
  {
   "cell_type": "markdown",
   "metadata": {},
   "source": [
    "Отлично! Почти вся информация в сборе. Не хватает только одного: географических координат. Они понадобятся нам для вычисления различных расстояний. На рассматриваемой нами странице есть карта. Если мы можем открыть карту, на которую нанесён дом, значит где-то в HTML страницы спрятаны географические координаты! Попробуем отыскать их. \n",
    "\n",
    "Для этого откроем [Яндекс - карты](https://yandex.ru/maps) и вобьём адрес любой недвижимости с ЦИАН. Скопируем одну из координат объекта. Откроем код ЦИАНовской странички и воспользуемся поиском по ней. Опа! Мы нашли нужный нам тэг..."
   ]
  },
  {
   "cell_type": "code",
   "execution_count": 36,
   "metadata": {},
   "outputs": [
    {
     "data": {
      "text/plain": [
       "<div class=\"object-descr__map-tabs__content js-object_descr__panorama\">\n",
       "<panorama ns=\"ymapspano\" point=\"[37.500953,55.713040]\"></panorama>\n",
       "</div>"
      ]
     },
     "execution_count": 36,
     "metadata": {},
     "output_type": "execute_result"
    }
   ],
   "source": [
    "coordinates = soup.findAll('div',{'class':\"object-descr__map-tabs__content js-object_descr__panorama\"})[0]\n",
    "coordinates"
   ]
  },
  {
   "cell_type": "code",
   "execution_count": 37,
   "metadata": {},
   "outputs": [
    {
     "data": {
      "text/plain": [
       "'[37.500953,55.713040]'"
      ]
     },
     "execution_count": 37,
     "metadata": {},
     "output_type": "execute_result"
    }
   ],
   "source": [
    "coordinates.panorama.attrs['point']  # перешли по тэгу, после по атрубуту и координаты у нас в кармане."
   ]
  },
  {
   "cell_type": "markdown",
   "metadata": {},
   "source": [
    "Пришло время соеденить всё это в одно целое. Функция для выкачки данных по одной квартире будет выглядеть следующим образом: "
   ]
  },
  {
   "cell_type": "code",
   "execution_count": 38,
   "metadata": {
    "collapsed": true
   },
   "outputs": [],
   "source": [
    "def One_Flat_Downloader(href):\n",
    "    \"\"\"\n",
    "    Функция производит выкачку по одной ЦИАНовской ссылке \n",
    "    всей существующей информации о квартире.\n",
    "    Ввод: ссылка на описание квартиры\n",
    "    Вывод: словарь с информацией о квартире    \n",
    "    \"\"\"\n",
    "    \n",
    "    data = { }  # Задали пустой словарь, в который мы будем сохранять данные\n",
    "    \n",
    "    # Подгружаем страничку с информацией по квартире\n",
    "    response = requests.get(href)\n",
    "    html = response.content\n",
    "    soup = BeautifulSoup(html,'html.parser')\n",
    "    \n",
    "    # Вытаскиваем цену на квартиру\n",
    "    price = soup.findAll('div', attrs = {'class':\"object_descr_price\"})[0].text.strip()\n",
    "    data['Цена'] = price\n",
    "    \n",
    "    # Вытаскиваем метро\n",
    "    station = soup.findAll('p', attrs = {'class':\"objects_item_metro_prg\"})[0].a.text\n",
    "    data['Метро'] = station\n",
    "    \n",
    "    # Вытаскиваем количество комнат в квартире\n",
    "    komnata = soup.findAll('div', attrs = {'class':\"object_descr_title\"})[0].text.strip()\n",
    "    data['Комнаты'] = komnata\n",
    "    \n",
    "    # Вытаскиваем расстояние до метро то ли пешком то ли на машине...\n",
    "    Do_metro = soup.findAll('p', attrs = {'class':\"objects_item_metro_prg\"})[0]\n",
    "    Do_metro = Do_metro.find('span',{'class':'object_item_metro_comment'}).text.strip()\n",
    "    data['До метро'] = Do_metro\n",
    "    \n",
    "    # Вытаскиваем координаты квартиры\n",
    "    coordinates = soup.findAll('div',{'class':\"object-descr__map-tabs__content js-object_descr__panorama\"})[0]\n",
    "    data['Координаты'] = coordinates.panorama.attrs['point']\n",
    "    \n",
    "    # Вытаскиваем всё остальное\n",
    "    table = soup.findAll('table',attrs = {'class':\"object_descr_props flat sale\"})[0]\n",
    "    rows = table.find_all('tr')[1:]  # Вытащили все строки\n",
    "    for row in rows:\n",
    "        cols = [row.findAll('th')[0].text.strip(),row.findAll('td')[0].text.strip()] # очищаем каждую строку! \n",
    "        data[cols[0]] = cols[1] # запоминаем\n",
    "    return(data) "
   ]
  },
  {
   "cell_type": "markdown",
   "metadata": {},
   "source": [
    "Попробуем применить эту функцию к нескольким разным квартирам. Функция каждый раз будет возвращать нам табличку, которая относится к данной квартире. Каждый раз табличка будет содержать разное количество строк, потому что информация о каждой квартире в своём роде уникальна..."
   ]
  },
  {
   "cell_type": "code",
   "execution_count": 39,
   "metadata": {},
   "outputs": [
    {
     "data": {
      "text/html": [
       "<div>\n",
       "<table border=\"1\" class=\"dataframe\">\n",
       "  <thead>\n",
       "    <tr style=\"text-align: right;\">\n",
       "      <th></th>\n",
       "      <th>0</th>\n",
       "    </tr>\n",
       "  </thead>\n",
       "  <tbody>\n",
       "    <tr>\n",
       "      <th>Площадь комнат:</th>\n",
       "      <td>–</td>\n",
       "    </tr>\n",
       "    <tr>\n",
       "      <th>Координаты</th>\n",
       "      <td>[37.500953,55.713040]</td>\n",
       "    </tr>\n",
       "    <tr>\n",
       "      <th>Этаж:</th>\n",
       "      <td>16 / 18</td>\n",
       "    </tr>\n",
       "    <tr>\n",
       "      <th>Метро</th>\n",
       "      <td>Университет,</td>\n",
       "    </tr>\n",
       "    <tr>\n",
       "      <th>Вид из окна:</th>\n",
       "      <td>двор и улица</td>\n",
       "    </tr>\n",
       "    <tr>\n",
       "      <th>Комнаты</th>\n",
       "      <td>3-комн. кв. \\n    \\n\\n                \\n      ...</td>\n",
       "    </tr>\n",
       "    <tr>\n",
       "      <th>Общая площадь:</th>\n",
       "      <td>138 м2</td>\n",
       "    </tr>\n",
       "    <tr>\n",
       "      <th>Телефон:</th>\n",
       "      <td>да</td>\n",
       "    </tr>\n",
       "    <tr>\n",
       "      <th>Раздельных санузлов:</th>\n",
       "      <td>1</td>\n",
       "    </tr>\n",
       "    <tr>\n",
       "      <th>Тип продажи:</th>\n",
       "      <td>свободная</td>\n",
       "    </tr>\n",
       "    <tr>\n",
       "      <th>Лифт:</th>\n",
       "      <td>1 пасс. + 1 груз.</td>\n",
       "    </tr>\n",
       "    <tr>\n",
       "      <th>До метро</th>\n",
       "      <td>11\\n                мин.\\n                \\n  ...</td>\n",
       "    </tr>\n",
       "    <tr>\n",
       "      <th>Балкон:</th>\n",
       "      <td>нет</td>\n",
       "    </tr>\n",
       "    <tr>\n",
       "      <th>Жилая площадь:</th>\n",
       "      <td>110 м2</td>\n",
       "    </tr>\n",
       "    <tr>\n",
       "      <th>Тип дома:</th>\n",
       "      <td>вторичка</td>\n",
       "    </tr>\n",
       "    <tr>\n",
       "      <th>Цена</th>\n",
       "      <td>59 000 000 руб.</td>\n",
       "    </tr>\n",
       "    <tr>\n",
       "      <th>Совмещенных санузлов:</th>\n",
       "      <td>1</td>\n",
       "    </tr>\n",
       "    <tr>\n",
       "      <th>Площадь кухни:</th>\n",
       "      <td>–</td>\n",
       "    </tr>\n",
       "  </tbody>\n",
       "</table>\n",
       "</div>"
      ],
      "text/plain": [
       "                                                                       0\n",
       "Площадь комнат:                                                        –\n",
       "Координаты                                         [37.500953,55.713040]\n",
       "Этаж:                                                            16 / 18\n",
       "Метро                                                       Университет,\n",
       "Вид из окна:                                                двор и улица\n",
       "Комнаты                3-комн. кв. \\n    \\n\\n                \\n      ...\n",
       "Общая площадь:                                                    138 м2\n",
       "Телефон:                                                              да\n",
       "Раздельных санузлов:                                                   1\n",
       "Тип продажи:                                                   свободная\n",
       "Лифт:                                                  1 пасс. + 1 груз.\n",
       "До метро               11\\n                мин.\\n                \\n  ...\n",
       "Балкон:                                                              нет\n",
       "Жилая площадь:                                                    110 м2\n",
       "Тип дома:                                                       вторичка\n",
       "Цена                                                     59 000 000 руб.\n",
       "Совмещенных санузлов:                                                  1\n",
       "Площадь кухни:                                                         –"
      ]
     },
     "execution_count": 39,
     "metadata": {},
     "output_type": "execute_result"
    }
   ],
   "source": [
    "dic = One_Flat_Downloader(clean_hrefs[0])\n",
    "pd.DataFrame.from_dict(dic,orient='index')"
   ]
  },
  {
   "cell_type": "code",
   "execution_count": 40,
   "metadata": {},
   "outputs": [
    {
     "data": {
      "text/html": [
       "<div>\n",
       "<table border=\"1\" class=\"dataframe\">\n",
       "  <thead>\n",
       "    <tr style=\"text-align: right;\">\n",
       "      <th></th>\n",
       "      <th>0</th>\n",
       "    </tr>\n",
       "  </thead>\n",
       "  <tbody>\n",
       "    <tr>\n",
       "      <th>Площадь комнат:</th>\n",
       "      <td>17.21 м2</td>\n",
       "    </tr>\n",
       "    <tr>\n",
       "      <th>Координаты</th>\n",
       "      <td>[37.774751,55.670397]</td>\n",
       "    </tr>\n",
       "    <tr>\n",
       "      <th>Этаж:</th>\n",
       "      <td>15 / 17</td>\n",
       "    </tr>\n",
       "    <tr>\n",
       "      <th>Метро</th>\n",
       "      <td>Люблино,</td>\n",
       "    </tr>\n",
       "    <tr>\n",
       "      <th>Вид из окна:</th>\n",
       "      <td>двор</td>\n",
       "    </tr>\n",
       "    <tr>\n",
       "      <th>Комнаты</th>\n",
       "      <td>1-комн. кв. \\n    \\n\\n                \\n      ...</td>\n",
       "    </tr>\n",
       "    <tr>\n",
       "      <th>Сдача ГК:</th>\n",
       "      <td>2 кв. 2019 года</td>\n",
       "    </tr>\n",
       "    <tr>\n",
       "      <th>Общая площадь:</th>\n",
       "      <td>24,1 м2</td>\n",
       "    </tr>\n",
       "    <tr>\n",
       "      <th>Совмещенных санузлов:</th>\n",
       "      <td>1</td>\n",
       "    </tr>\n",
       "    <tr>\n",
       "      <th>Тип продажи:</th>\n",
       "      <td>свободная</td>\n",
       "    </tr>\n",
       "    <tr>\n",
       "      <th>Лифт:</th>\n",
       "      <td>1 пасс. + 1 груз.</td>\n",
       "    </tr>\n",
       "    <tr>\n",
       "      <th>До метро</th>\n",
       "      <td>4\\n                мин.\\n                \\n   ...</td>\n",
       "    </tr>\n",
       "    <tr>\n",
       "      <th>Балкон:</th>\n",
       "      <td>1 лодж.</td>\n",
       "    </tr>\n",
       "    <tr>\n",
       "      <th>Жилая площадь:</th>\n",
       "      <td>17,2 м2</td>\n",
       "    </tr>\n",
       "    <tr>\n",
       "      <th>Тип дома:</th>\n",
       "      <td>новостройка, \\n            монолитный</td>\n",
       "    </tr>\n",
       "    <tr>\n",
       "      <th>Цена</th>\n",
       "      <td>3 677 660 руб.</td>\n",
       "    </tr>\n",
       "    <tr>\n",
       "      <th>Площадь кухни:</th>\n",
       "      <td>–</td>\n",
       "    </tr>\n",
       "  </tbody>\n",
       "</table>\n",
       "</div>"
      ],
      "text/plain": [
       "                                                                       0\n",
       "Площадь комнат:                                                 17.21 м2\n",
       "Координаты                                         [37.774751,55.670397]\n",
       "Этаж:                                                            15 / 17\n",
       "Метро                                                           Люблино,\n",
       "Вид из окна:                                                        двор\n",
       "Комнаты                1-комн. кв. \\n    \\n\\n                \\n      ...\n",
       "Сдача ГК:                                                2 кв. 2019 года\n",
       "Общая площадь:                                                   24,1 м2\n",
       "Совмещенных санузлов:                                                  1\n",
       "Тип продажи:                                                   свободная\n",
       "Лифт:                                                  1 пасс. + 1 груз.\n",
       "До метро               4\\n                мин.\\n                \\n   ...\n",
       "Балкон:                                                          1 лодж.\n",
       "Жилая площадь:                                                   17,2 м2\n",
       "Тип дома:                          новостройка, \\n            монолитный\n",
       "Цена                                                      3 677 660 руб.\n",
       "Площадь кухни:                                                         –"
      ]
     },
     "execution_count": 40,
     "metadata": {},
     "output_type": "execute_result"
    }
   ],
   "source": [
    "dic = One_Flat_Downloader(clean_hrefs[-1])\n",
    "pd.DataFrame.from_dict(dic,orient='index')"
   ]
  },
  {
   "cell_type": "markdown",
   "metadata": {},
   "source": [
    "### 6.3 Агрегирование \n",
    "\n",
    "Итак, что у нас есть? \n",
    "\n",
    "* Огромный список из хрефов, которые надо пройти\n",
    "* Функция, которая по каждому хрефу собирает для нас нужные данные\n",
    "\n",
    "Что мы хотим? \n",
    "* Мы хотим, чтобы все эти данные оказались в одной большой таблице. Нужно написать функцию, которая будет соединять словари в единое целое. При этом, если в однои из словарей нет какого-нибудь ключа, в итоговом словаре он должен заполняться как NA. "
   ]
  },
  {
   "cell_type": "code",
   "execution_count": 41,
   "metadata": {
    "collapsed": true
   },
   "outputs": [],
   "source": [
    "df1 = pd.DataFrame.from_dict(One_Flat_Downloader(all_hrefs[0]),orient='index')\n",
    "df2 = pd.DataFrame.from_dict(One_Flat_Downloader(all_hrefs[1]),orient='index')"
   ]
  },
  {
   "cell_type": "code",
   "execution_count": 42,
   "metadata": {},
   "outputs": [
    {
     "name": "stdout",
     "output_type": "stream",
     "text": [
      "(18, 1) (21, 1)\n"
     ]
    }
   ],
   "source": [
    "print(df1.shape,df2.shape) # посмотрим размерности получившихся таблиц"
   ]
  },
  {
   "cell_type": "code",
   "execution_count": 43,
   "metadata": {},
   "outputs": [
    {
     "data": {
      "text/html": [
       "<div>\n",
       "<table border=\"1\" class=\"dataframe\">\n",
       "  <thead>\n",
       "    <tr style=\"text-align: right;\">\n",
       "      <th></th>\n",
       "      <th>0</th>\n",
       "    </tr>\n",
       "  </thead>\n",
       "  <tbody>\n",
       "    <tr>\n",
       "      <th>Ремонт:</th>\n",
       "      <td>отсутствует</td>\n",
       "    </tr>\n",
       "    <tr>\n",
       "      <th>Площадь комнат:</th>\n",
       "      <td>22.3-22 м2</td>\n",
       "    </tr>\n",
       "    <tr>\n",
       "      <th>Санузел:</th>\n",
       "      <td>нет</td>\n",
       "    </tr>\n",
       "  </tbody>\n",
       "</table>\n",
       "</div>"
      ],
      "text/plain": [
       "                           0\n",
       "Ремонт:          отсутствует\n",
       "Площадь комнат:   22.3-22 м2\n",
       "Санузел:                 нет"
      ]
     },
     "execution_count": 43,
     "metadata": {},
     "output_type": "execute_result"
    }
   ],
   "source": [
    "df1.head(3)"
   ]
  },
  {
   "cell_type": "code",
   "execution_count": 44,
   "metadata": {},
   "outputs": [
    {
     "data": {
      "text/html": [
       "<div>\n",
       "<table border=\"1\" class=\"dataframe\">\n",
       "  <thead>\n",
       "    <tr style=\"text-align: right;\">\n",
       "      <th></th>\n",
       "      <th>0</th>\n",
       "    </tr>\n",
       "  </thead>\n",
       "  <tbody>\n",
       "    <tr>\n",
       "      <th>Ремонт:</th>\n",
       "      <td>дизайнерский</td>\n",
       "    </tr>\n",
       "    <tr>\n",
       "      <th>Площадь комнат:</th>\n",
       "      <td>28-27-21 м2</td>\n",
       "    </tr>\n",
       "    <tr>\n",
       "      <th>Координаты</th>\n",
       "      <td>[37.786339,55.791618]</td>\n",
       "    </tr>\n",
       "  </tbody>\n",
       "</table>\n",
       "</div>"
      ],
      "text/plain": [
       "                                     0\n",
       "Ремонт:                   дизайнерский\n",
       "Площадь комнат:            28-27-21 м2\n",
       "Координаты       [37.786339,55.791618]"
      ]
     },
     "execution_count": 44,
     "metadata": {},
     "output_type": "execute_result"
    }
   ],
   "source": [
    "df2.head(3)"
   ]
  },
  {
   "cell_type": "markdown",
   "metadata": {},
   "source": [
    "Обратим внимание, что у наблюдений одинаковые номера! Ноль и ... ноль. Надо как-то решить эту проблему. Переименуем у второй таблицы номер наблюдения с нулевого на первый, а после объединим таблички с помощью команды `join`. Если номер таблицы не заменить, то команда не сработает."
   ]
  },
  {
   "cell_type": "code",
   "execution_count": 45,
   "metadata": {},
   "outputs": [
    {
     "data": {
      "text/plain": [
       "(22, 2)"
      ]
     },
     "execution_count": 45,
     "metadata": {},
     "output_type": "execute_result"
    }
   ],
   "source": [
    "df2.columns =[1]\n",
    "df = df1.join(df2, how='outer') # Если поставить вместо outer - inner, то останутся только общие строки\n",
    "                                # Если поставить left, то тольо строки из левой таблицы\n",
    "                                # Если только rigth, то только строки из правой таблицы. \n",
    "df.shape"
   ]
  },
  {
   "cell_type": "markdown",
   "metadata": {},
   "source": [
    "Попробуйте немного поэкспериментировать с кодом ниже! "
   ]
  },
  {
   "cell_type": "code",
   "execution_count": 46,
   "metadata": {},
   "outputs": [
    {
     "data": {
      "text/html": [
       "<div>\n",
       "<table border=\"1\" class=\"dataframe\">\n",
       "  <thead>\n",
       "    <tr style=\"text-align: right;\">\n",
       "      <th></th>\n",
       "      <th>A</th>\n",
       "      <th>B</th>\n",
       "      <th>C</th>\n",
       "      <th>D</th>\n",
       "    </tr>\n",
       "  </thead>\n",
       "  <tbody>\n",
       "    <tr>\n",
       "      <th>K0</th>\n",
       "      <td>A0</td>\n",
       "      <td>B0</td>\n",
       "      <td>C0</td>\n",
       "      <td>D0</td>\n",
       "    </tr>\n",
       "    <tr>\n",
       "      <th>K2</th>\n",
       "      <td>A2</td>\n",
       "      <td>B2</td>\n",
       "      <td>C2</td>\n",
       "      <td>D2</td>\n",
       "    </tr>\n",
       "    <tr>\n",
       "      <th>K3</th>\n",
       "      <td>NaN</td>\n",
       "      <td>NaN</td>\n",
       "      <td>C3</td>\n",
       "      <td>D3</td>\n",
       "    </tr>\n",
       "  </tbody>\n",
       "</table>\n",
       "</div>"
      ],
      "text/plain": [
       "      A    B   C   D\n",
       "K0   A0   B0  C0  D0\n",
       "K2   A2   B2  C2  D2\n",
       "K3  NaN  NaN  C3  D3"
      ]
     },
     "execution_count": 46,
     "metadata": {},
     "output_type": "execute_result"
    }
   ],
   "source": [
    "# Пример на команду join: \n",
    "left = pd.DataFrame({'A': ['A0', 'A1', 'A2'],\n",
    "                    'B': ['B0', 'B1', 'B2']},\n",
    "                    index=['K0', 'K1', 'K2'])\n",
    "\n",
    "right = pd.DataFrame({'C': ['C0', 'C2', 'C3'],\n",
    "                     'D': ['D0', 'D2', 'D3']},\n",
    "                     index=['K0', 'K2', 'K3'])\n",
    "left.join(right,how = 'right')"
   ]
  },
  {
   "cell_type": "code",
   "execution_count": 47,
   "metadata": {},
   "outputs": [
    {
     "data": {
      "text/html": [
       "<div>\n",
       "<table border=\"1\" class=\"dataframe\">\n",
       "  <thead>\n",
       "    <tr style=\"text-align: right;\">\n",
       "      <th></th>\n",
       "      <th>0</th>\n",
       "      <th>1</th>\n",
       "    </tr>\n",
       "  </thead>\n",
       "  <tbody>\n",
       "    <tr>\n",
       "      <th>Балкон:</th>\n",
       "      <td>нет</td>\n",
       "      <td>–</td>\n",
       "    </tr>\n",
       "    <tr>\n",
       "      <th>Вид из окна:</th>\n",
       "      <td>двор</td>\n",
       "      <td>двор</td>\n",
       "    </tr>\n",
       "    <tr>\n",
       "      <th>Высота потолков:</th>\n",
       "      <td>NaN</td>\n",
       "      <td>3 м</td>\n",
       "    </tr>\n",
       "    <tr>\n",
       "      <th>Год постройки:</th>\n",
       "      <td>NaN</td>\n",
       "      <td>2011</td>\n",
       "    </tr>\n",
       "    <tr>\n",
       "      <th>До метро</th>\n",
       "      <td>15\\n                мин.\\n                \\n  ...</td>\n",
       "      <td>9\\n                мин.\\n                \\n   ...</td>\n",
       "    </tr>\n",
       "  </tbody>\n",
       "</table>\n",
       "</div>"
      ],
      "text/plain": [
       "                                                                  0  \\\n",
       "Балкон:                                                         нет   \n",
       "Вид из окна:                                                   двор   \n",
       "Высота потолков:                                                NaN   \n",
       "Год постройки:                                                  NaN   \n",
       "До метро          15\\n                мин.\\n                \\n  ...   \n",
       "\n",
       "                                                                  1  \n",
       "Балкон:                                                           –  \n",
       "Вид из окна:                                                   двор  \n",
       "Высота потолков:                                                3 м  \n",
       "Год постройки:                                                 2011  \n",
       "До метро          9\\n                мин.\\n                \\n   ...  "
      ]
     },
     "execution_count": 47,
     "metadata": {},
     "output_type": "execute_result"
    }
   ],
   "source": [
    "# Посмотрим на нашу таблицу! \n",
    "df.head()"
   ]
  },
  {
   "cell_type": "markdown",
   "metadata": {},
   "source": [
    "В принципе, всё готово. Можно объединять таблицы по всем хрефам. В атаку! "
   ]
  },
  {
   "cell_type": "code",
   "execution_count": 48,
   "metadata": {},
   "outputs": [
    {
     "ename": "AttributeError",
     "evalue": "'NoneType' object has no attribute 'text'",
     "output_type": "error",
     "traceback": [
      "\u001b[0;31m---------------------------------------------------------------------------\u001b[0m",
      "\u001b[0;31mAttributeError\u001b[0m                            Traceback (most recent call last)",
      "\u001b[0;32m<ipython-input-48-3a7eec68ceef>\u001b[0m in \u001b[0;36m<module>\u001b[0;34m()\u001b[0m\n\u001b[1;32m      5\u001b[0m     \u001b[0mk\u001b[0m \u001b[0;34m=\u001b[0m \u001b[0mk\u001b[0m \u001b[0;34m+\u001b[0m \u001b[0;36m1\u001b[0m\u001b[0;34m\u001b[0m\u001b[0m\n\u001b[1;32m      6\u001b[0m     \u001b[0;31m# грузим новое наблюдение\u001b[0m\u001b[0;34m\u001b[0m\u001b[0;34m\u001b[0m\u001b[0m\n\u001b[0;32m----> 7\u001b[0;31m     \u001b[0mdf1\u001b[0m \u001b[0;34m=\u001b[0m \u001b[0mpd\u001b[0m\u001b[0;34m.\u001b[0m\u001b[0mDataFrame\u001b[0m\u001b[0;34m.\u001b[0m\u001b[0mfrom_dict\u001b[0m\u001b[0;34m(\u001b[0m\u001b[0mOne_Flat_Downloader\u001b[0m\u001b[0;34m(\u001b[0m\u001b[0mitem\u001b[0m\u001b[0;34m)\u001b[0m\u001b[0;34m,\u001b[0m\u001b[0morient\u001b[0m\u001b[0;34m=\u001b[0m\u001b[0;34m'index'\u001b[0m\u001b[0;34m)\u001b[0m\u001b[0;34m\u001b[0m\u001b[0m\n\u001b[0m\u001b[1;32m      8\u001b[0m     \u001b[0;31m# присваиваем этому наблюдению номер\u001b[0m\u001b[0;34m\u001b[0m\u001b[0;34m\u001b[0m\u001b[0m\n\u001b[1;32m      9\u001b[0m     \u001b[0mdf1\u001b[0m\u001b[0;34m.\u001b[0m\u001b[0mcolumns\u001b[0m \u001b[0;34m=\u001b[0m\u001b[0;34m[\u001b[0m\u001b[0mk\u001b[0m\u001b[0;34m]\u001b[0m\u001b[0;34m\u001b[0m\u001b[0m\n",
      "\u001b[0;32m<ipython-input-38-408d1a0d0770>\u001b[0m in \u001b[0;36mOne_Flat_Downloader\u001b[0;34m(href)\u001b[0m\n\u001b[1;32m     28\u001b[0m     \u001b[0;31m# Вытаскиваем расстояние до метро то ли пешком то ли на машине...\u001b[0m\u001b[0;34m\u001b[0m\u001b[0;34m\u001b[0m\u001b[0m\n\u001b[1;32m     29\u001b[0m     \u001b[0mDo_metro\u001b[0m \u001b[0;34m=\u001b[0m \u001b[0msoup\u001b[0m\u001b[0;34m.\u001b[0m\u001b[0mfindAll\u001b[0m\u001b[0;34m(\u001b[0m\u001b[0;34m'p'\u001b[0m\u001b[0;34m,\u001b[0m \u001b[0mattrs\u001b[0m \u001b[0;34m=\u001b[0m \u001b[0;34m{\u001b[0m\u001b[0;34m'class'\u001b[0m\u001b[0;34m:\u001b[0m\u001b[0;34m\"objects_item_metro_prg\"\u001b[0m\u001b[0;34m}\u001b[0m\u001b[0;34m)\u001b[0m\u001b[0;34m[\u001b[0m\u001b[0;36m0\u001b[0m\u001b[0;34m]\u001b[0m\u001b[0;34m\u001b[0m\u001b[0m\n\u001b[0;32m---> 30\u001b[0;31m     \u001b[0mDo_metro\u001b[0m \u001b[0;34m=\u001b[0m \u001b[0mDo_metro\u001b[0m\u001b[0;34m.\u001b[0m\u001b[0mfind\u001b[0m\u001b[0;34m(\u001b[0m\u001b[0;34m'span'\u001b[0m\u001b[0;34m,\u001b[0m\u001b[0;34m{\u001b[0m\u001b[0;34m'class'\u001b[0m\u001b[0;34m:\u001b[0m\u001b[0;34m'object_item_metro_comment'\u001b[0m\u001b[0;34m}\u001b[0m\u001b[0;34m)\u001b[0m\u001b[0;34m.\u001b[0m\u001b[0mtext\u001b[0m\u001b[0;34m.\u001b[0m\u001b[0mstrip\u001b[0m\u001b[0;34m(\u001b[0m\u001b[0;34m)\u001b[0m\u001b[0;34m\u001b[0m\u001b[0m\n\u001b[0m\u001b[1;32m     31\u001b[0m     \u001b[0mdata\u001b[0m\u001b[0;34m[\u001b[0m\u001b[0;34m'До метро'\u001b[0m\u001b[0;34m]\u001b[0m \u001b[0;34m=\u001b[0m \u001b[0mDo_metro\u001b[0m\u001b[0;34m\u001b[0m\u001b[0m\n\u001b[1;32m     32\u001b[0m \u001b[0;34m\u001b[0m\u001b[0m\n",
      "\u001b[0;31mAttributeError\u001b[0m: 'NoneType' object has no attribute 'text'"
     ]
    }
   ],
   "source": [
    "# В эту табличку будем собирать данные\n",
    "df = pd.DataFrame( )\n",
    "k = 0 # Это номера наблюдений\n",
    "for item in all_hrefs:\n",
    "    k = k + 1\n",
    "    # грузим новое наблюдение\n",
    "    df1 = pd.DataFrame.from_dict(One_Flat_Downloader(item),orient='index')\n",
    "    # присваиваем этому наблюдению номер\n",
    "    df1.columns =[k]\n",
    "    # закидываем его в итоговую таблицу\n",
    "    df = df.join(df1, how='outer')\n",
    "df.head()"
   ]
  },
  {
   "cell_type": "markdown",
   "metadata": {},
   "source": [
    "ОШИБКА?! Но я же вроде бы всё писал правильно...  А ещё я запускал код позавчера и он ... работал! А сейчас всё сломалось и не работает... Я в шоке! Что мне делать?! БЛИИИИИИИН\n",
    "\n",
    "\n",
    "<img align=\"center\" src=\"https://raw.githubusercontent.com/FUlyankin/Parsers/master/images%20/5.jpg\" height=\"700\" width=\"700\">\n",
    "\n",
    "\n",
    "Попытаемся понять где именно произошёл сбой."
   ]
  },
  {
   "cell_type": "code",
   "execution_count": 49,
   "metadata": {},
   "outputs": [
    {
     "ename": "AttributeError",
     "evalue": "'NoneType' object has no attribute 'text'",
     "output_type": "error",
     "traceback": [
      "\u001b[0;31m---------------------------------------------------------------------------\u001b[0m",
      "\u001b[0;31mAttributeError\u001b[0m                            Traceback (most recent call last)",
      "\u001b[0;32m<ipython-input-49-6bec1b36d22f>\u001b[0m in \u001b[0;36m<module>\u001b[0;34m()\u001b[0m\n\u001b[1;32m      1\u001b[0m \u001b[0ml\u001b[0m \u001b[0;34m=\u001b[0m \u001b[0;36m0\u001b[0m\u001b[0;34m\u001b[0m\u001b[0m\n\u001b[1;32m      2\u001b[0m \u001b[0;32mfor\u001b[0m \u001b[0mitem\u001b[0m \u001b[0;32min\u001b[0m \u001b[0mall_hrefs\u001b[0m\u001b[0;34m:\u001b[0m\u001b[0;34m\u001b[0m\u001b[0m\n\u001b[0;32m----> 3\u001b[0;31m     \u001b[0mOne_Flat_Downloader\u001b[0m\u001b[0;34m(\u001b[0m\u001b[0mitem\u001b[0m\u001b[0;34m)\u001b[0m\u001b[0;34m\u001b[0m\u001b[0m\n\u001b[0m\u001b[1;32m      4\u001b[0m     \u001b[0ml\u001b[0m \u001b[0;34m=\u001b[0m \u001b[0ml\u001b[0m \u001b[0;34m+\u001b[0m \u001b[0;36m1\u001b[0m\u001b[0;34m\u001b[0m\u001b[0m\n",
      "\u001b[0;32m<ipython-input-38-408d1a0d0770>\u001b[0m in \u001b[0;36mOne_Flat_Downloader\u001b[0;34m(href)\u001b[0m\n\u001b[1;32m     28\u001b[0m     \u001b[0;31m# Вытаскиваем расстояние до метро то ли пешком то ли на машине...\u001b[0m\u001b[0;34m\u001b[0m\u001b[0;34m\u001b[0m\u001b[0m\n\u001b[1;32m     29\u001b[0m     \u001b[0mDo_metro\u001b[0m \u001b[0;34m=\u001b[0m \u001b[0msoup\u001b[0m\u001b[0;34m.\u001b[0m\u001b[0mfindAll\u001b[0m\u001b[0;34m(\u001b[0m\u001b[0;34m'p'\u001b[0m\u001b[0;34m,\u001b[0m \u001b[0mattrs\u001b[0m \u001b[0;34m=\u001b[0m \u001b[0;34m{\u001b[0m\u001b[0;34m'class'\u001b[0m\u001b[0;34m:\u001b[0m\u001b[0;34m\"objects_item_metro_prg\"\u001b[0m\u001b[0;34m}\u001b[0m\u001b[0;34m)\u001b[0m\u001b[0;34m[\u001b[0m\u001b[0;36m0\u001b[0m\u001b[0;34m]\u001b[0m\u001b[0;34m\u001b[0m\u001b[0m\n\u001b[0;32m---> 30\u001b[0;31m     \u001b[0mDo_metro\u001b[0m \u001b[0;34m=\u001b[0m \u001b[0mDo_metro\u001b[0m\u001b[0;34m.\u001b[0m\u001b[0mfind\u001b[0m\u001b[0;34m(\u001b[0m\u001b[0;34m'span'\u001b[0m\u001b[0;34m,\u001b[0m\u001b[0;34m{\u001b[0m\u001b[0;34m'class'\u001b[0m\u001b[0;34m:\u001b[0m\u001b[0;34m'object_item_metro_comment'\u001b[0m\u001b[0;34m}\u001b[0m\u001b[0;34m)\u001b[0m\u001b[0;34m.\u001b[0m\u001b[0mtext\u001b[0m\u001b[0;34m.\u001b[0m\u001b[0mstrip\u001b[0m\u001b[0;34m(\u001b[0m\u001b[0;34m)\u001b[0m\u001b[0;34m\u001b[0m\u001b[0m\n\u001b[0m\u001b[1;32m     31\u001b[0m     \u001b[0mdata\u001b[0m\u001b[0;34m[\u001b[0m\u001b[0;34m'До метро'\u001b[0m\u001b[0;34m]\u001b[0m \u001b[0;34m=\u001b[0m \u001b[0mDo_metro\u001b[0m\u001b[0;34m\u001b[0m\u001b[0m\n\u001b[1;32m     32\u001b[0m \u001b[0;34m\u001b[0m\u001b[0m\n",
      "\u001b[0;31mAttributeError\u001b[0m: 'NoneType' object has no attribute 'text'"
     ]
    }
   ],
   "source": [
    "l = 0\n",
    "for item in all_hrefs:\n",
    "    One_Flat_Downloader(item)\n",
    "    l = l + 1"
   ]
  },
  {
   "cell_type": "code",
   "execution_count": 50,
   "metadata": {},
   "outputs": [
    {
     "data": {
      "text/plain": [
       "5"
      ]
     },
     "execution_count": 50,
     "metadata": {},
     "output_type": "execute_result"
    }
   ],
   "source": [
    "l"
   ]
  },
  {
   "cell_type": "code",
   "execution_count": 52,
   "metadata": {},
   "outputs": [
    {
     "data": {
      "text/plain": [
       "'https://www.cian.ru/sale/flat/156514613/'"
      ]
     },
     "execution_count": 52,
     "metadata": {},
     "output_type": "execute_result"
    }
   ],
   "source": [
    "all_hrefs[l]"
   ]
  },
  {
   "cell_type": "markdown",
   "metadata": {},
   "source": [
    "Сбой произошёл на ссылке номер $l$. Переходим по ней, смотрим что там происходит иииии... там Новая Москва, а в Новой Москве нет метро. Именно поэтому скрипт не может найти его и пишет нам, что `object has no attribute 'text'`.\n",
    "\n",
    "Что же нам делать? Конечно же прописывать исключения! В python существует специальная конструкция, которая называется try - except. Посмотрим на то как она работает: \n",
    "\n",
    "```python\n",
    "try:\n",
    "    something\n",
    "except Name_of_some_error:\n",
    "    do_something_else\n",
    "```\n",
    "\n",
    "> Конструкция позволяет в случае, если произошла ошибка типа Name_of_some_error не заканчивать программу со словами «Все пропало! Ошибка!», а тут же передать управление блоку do_something_else, который что-нибудь сделает."
   ]
  },
  {
   "cell_type": "code",
   "execution_count": 53,
   "metadata": {},
   "outputs": [
    {
     "ename": "ValueError",
     "evalue": "math domain error",
     "output_type": "error",
     "traceback": [
      "\u001b[0;31m---------------------------------------------------------------------------\u001b[0m",
      "\u001b[0;31mValueError\u001b[0m                                Traceback (most recent call last)",
      "\u001b[0;32m<ipython-input-53-cadb1b86fa2b>\u001b[0m in \u001b[0;36m<module>\u001b[0;34m()\u001b[0m\n\u001b[1;32m      3\u001b[0m \u001b[0mb\u001b[0m \u001b[0;34m=\u001b[0m \u001b[0;34m[\u001b[0m \u001b[0;34m]\u001b[0m\u001b[0;34m\u001b[0m\u001b[0m\n\u001b[1;32m      4\u001b[0m \u001b[0;32mfor\u001b[0m \u001b[0matem\u001b[0m \u001b[0;32min\u001b[0m \u001b[0ma\u001b[0m\u001b[0;34m:\u001b[0m\u001b[0;34m\u001b[0m\u001b[0m\n\u001b[0;32m----> 5\u001b[0;31m     \u001b[0mb\u001b[0m\u001b[0;34m.\u001b[0m\u001b[0mappend\u001b[0m\u001b[0;34m(\u001b[0m\u001b[0mlog\u001b[0m\u001b[0;34m(\u001b[0m\u001b[0matem\u001b[0m\u001b[0;34m)\u001b[0m\u001b[0;34m)\u001b[0m\u001b[0;34m\u001b[0m\u001b[0m\n\u001b[0m\u001b[1;32m      6\u001b[0m \u001b[0mprint\u001b[0m\u001b[0;34m(\u001b[0m\u001b[0mb\u001b[0m\u001b[0;34m)\u001b[0m\u001b[0;34m\u001b[0m\u001b[0m\n",
      "\u001b[0;31mValueError\u001b[0m: math domain error"
     ]
    }
   ],
   "source": [
    "from math import log\n",
    "a = [1,2,3,4,-5,-7,9,10,0,12,2]\n",
    "b = [ ]\n",
    "for atem in a:\n",
    "    b.append(log(atem))\n",
    "print(b)"
   ]
  },
  {
   "cell_type": "markdown",
   "metadata": {},
   "source": [
    "Хотелось бы посчитать логарифм от каждого числа в векторе, но отрицательные числа нам мешают. Ну хорошо! Пропишем исключение... "
   ]
  },
  {
   "cell_type": "code",
   "execution_count": 54,
   "metadata": {},
   "outputs": [
    {
     "name": "stdout",
     "output_type": "stream",
     "text": [
      "[0.0, 0.6931471805599453, 1.0986122886681098, 1.3862943611198906, 'NA', 'NA', 2.1972245773362196, 2.302585092994046, 'NA', 2.4849066497880004, 0.6931471805599453]\n"
     ]
    }
   ],
   "source": [
    "b = [ ]\n",
    "for atem in a:\n",
    "    try:\n",
    "        b.append(log(atem))\n",
    "    except Exception:\n",
    "        b.append('NA')\n",
    "print(b)"
   ]
  },
  {
   "cell_type": "markdown",
   "metadata": {},
   "source": [
    "Видите, что произошло? Когда логарифм не мог вычислиться, в вектор записывалось NA. Про исключения можно почитать [на просорах интернета](https://pythonworld.ru/tipy-dannyx-v-python/isklyucheniya-v-python-konstrukciya-try-except-dlya-obrabotki-isklyuchenij.html). В данном примере мы наложили очень сильное исключение, которое работает при возникновении абсолютно любой неадекватной ситуации в коде. Это исключение при необходимость можно ослабить, заменив на другое.\n",
    "\n",
    "Пропишем в функции, которая выкачивает страницы, в графе, которая отвечает за станцию метро, такое исключение. Итоговый код для скачки ЦИАН будет иметь следующий вид: "
   ]
  },
  {
   "cell_type": "code",
   "execution_count": 55,
   "metadata": {},
   "outputs": [
    {
     "name": "stdout",
     "output_type": "stream",
     "text": [
      "Качаю хреф номер  1\n",
      "Качаю хреф номер  2\n",
      "Качаю хреф номер  3\n",
      "Качаю хреф номер  4\n",
      "Качаю хреф номер  5\n",
      "Качаю хреф номер  6\n",
      "Качаю хреф номер  7\n",
      "Качаю хреф номер  8\n",
      "Качаю хреф номер  9\n",
      "Качаю хреф номер  10\n",
      "скачал  10  квартир 280\n",
      "скачал  20  квартир 280\n",
      "скачал  30  квартир 280\n",
      "скачал  40  квартир 280\n",
      "скачал  50  квартир 280\n",
      "скачал  60  квартир 280\n",
      "скачал  70  квартир 280\n",
      "скачал  80  квартир 280\n",
      "скачал  90  квартир 280\n",
      "скачал  100  квартир 280\n",
      "скачал  110  квартир 280\n",
      "скачал  120  квартир 280\n",
      "скачал  130  квартир 280\n",
      "скачал  140  квартир 280\n",
      "скачал  150  квартир 280\n",
      "скачал  160  квартир 280\n",
      "скачал  170  квартир 280\n",
      "скачал  180  квартир 280\n",
      "скачал  190  квартир 280\n",
      "скачал  200  квартир 280\n",
      "скачал  210  квартир 280\n",
      "скачал  220  квартир 280\n",
      "скачал  230  квартир 280\n",
      "скачал  240  квартир 280\n",
      "скачал  250  квартир 280\n",
      "скачал  260  квартир 280\n",
      "скачал  270  квартир 280\n",
      "скачал  280  квартир 280\n"
     ]
    }
   ],
   "source": [
    "import requests\n",
    "from bs4 import BeautifulSoup\n",
    "import pandas as pd\n",
    "\n",
    "### Первая часть кода. Вытаскиваем список хрефов.\n",
    "\n",
    "page_part_1 = \"https://www.cian.ru/cat.php?deal_type=sale&engine_version=2&offer_type=flat&p=\"\n",
    "page_part_2 = \"&region=1&room1=1&room2=1&room3=1&room4=1&room5=1&room6=1&room7=1&room9=1\"\n",
    "\n",
    "all_hrefs = [ ]  # Тут мы будем хранить наши хрефы!\n",
    "\n",
    "for i in range(1,11): # Тут регулируем количество квартир (на одной странице их 28)\n",
    "    # Делаем ссылку!\n",
    "    page = page_part_1 + str(i) + page_part_2\n",
    "    \n",
    "    # Загружаем страницу\n",
    "    response = requests.get(page)\n",
    "    html = response.content\n",
    "    soup = BeautifulSoup(html,'html.parser')\n",
    "    \n",
    "    # Забираем себе хрефы и очищаем их\n",
    "    hrefs = soup.findAll('div', attrs = {'class':\"serp-item__content__bottom__left\"})\n",
    "    clean_hrefs = [item.a.attrs['href'] for item in hrefs]\n",
    "    all_hrefs.extend(clean_hrefs)\n",
    "    print('Качаю хреф номер ',i)\n",
    "    \n",
    "\n",
    "### Вторая часть кода. Функция, которая вытаскивает наблюдения по одной квартирке.    \n",
    "    \n",
    "def One_Flat_Downloader(href):\n",
    "    \"\"\"\n",
    "    Функция производит выкачку по одной ЦИАНовской ссылке \n",
    "    всей существующей информации о квартире.\n",
    "    Ввод: ссылка на описание квартиры\n",
    "    Вывод: словарь с информацией о квартире    \n",
    "    \"\"\"\n",
    "    \n",
    "    data = { }  # Задали пустой словарь, в который мы будем сохранять данные\n",
    "    \n",
    "    # Подгружаем страничку с информацией по квартире\n",
    "    response = requests.get(href)\n",
    "    html = response.content\n",
    "    soup = BeautifulSoup(html,'html.parser')\n",
    "    \n",
    "    # Вытаскиваем цену на квартиру\n",
    "    price = soup.findAll('div', attrs = {'class':\"object_descr_price\"})[0].text.strip()\n",
    "    data['Цена'] = price\n",
    "    \n",
    "    # Вытаскиваем метро\n",
    "    try:\n",
    "        station = soup.findAll('p', attrs = {'class':\"objects_item_metro_prg\"})[0].a.text\n",
    "        data['Метро'] = station\n",
    "    except Exception:\n",
    "        data['Метро'] = \"NA\"\n",
    "    \n",
    "    # Вытаскиваем расстояние до метро то ли пешком то ли на машине...\n",
    "    try:\n",
    "        Do_metro = soup.findAll('p', attrs = {'class':\"objects_item_metro_prg\"})[0]\n",
    "        Do_metro = Do_metro.find('span',{'class':'object_item_metro_comment'}).text.strip()\n",
    "        data['До метро'] = Do_metro\n",
    "    except Exception:\n",
    "        data['До метро'] = \"NA\"\n",
    "    \n",
    "    # Вытаскиваем количество комнат в квартире\n",
    "    komnata = soup.findAll('div', attrs = {'class':\"object_descr_title\"})[0].text.strip()\n",
    "    data['Комнаты'] = komnata\n",
    "    \n",
    "    # Вытаскиваем координаты квартиры\n",
    "    coordinates = soup.findAll('div',{'class':\"object-descr__map-tabs__content js-object_descr__panorama\"})[0]\n",
    "    data['Координаты'] = coordinates.panorama.attrs['point']\n",
    "    \n",
    "    # Вытаскиваем всё остальное\n",
    "    table = soup.findAll('table',attrs = {'class':\"object_descr_props flat sale\"})[0]\n",
    "    rows = table.find_all('tr')[1:]  # Вытащили все строки\n",
    "    for row in rows:\n",
    "        cols = [row.findAll('th')[0].text.strip(),row.findAll('td')[0].text.strip()] # очищаем каждую строку! \n",
    "        data[cols[0]] = cols[1] # запоминаем\n",
    "    return(data) \n",
    "\n",
    "\n",
    "### Третья часть кода. Собираем данные по всем хрефам и объединяем их в огромную таблицу.\n",
    "\n",
    "# В эту табличку будем собирать данные\n",
    "df = pd.DataFrame( )\n",
    "k = 0 # Это номера наблюдений\n",
    "n = len(all_hrefs)\n",
    "for item in all_hrefs:\n",
    "    k = k + 1\n",
    "    # грузим новое наблюдение\n",
    "    df1 = pd.DataFrame.from_dict(One_Flat_Downloader(item),orient='index')\n",
    "    # присваиваем этому наблюдению номер\n",
    "    df1.columns =[k]\n",
    "    # закидываем его в итоговую таблицу\n",
    "    df = df.join(df1, how='outer')\n",
    "    # Выдавать информацию о том, что сделана каждая десятая итерация! \n",
    "    if k%10 == 0:\n",
    "        print('скачал ', k, ' квартир', n)\n",
    "\n",
    "        \n",
    "df = df.T  # Для удобства транспонируем таблицу        \n",
    "\n",
    "# Добавим к итоговой таблице колонку из хрефов. Когда мы будем смотреть на данные,\n",
    "# будет возникать довольно большое количество аномалий. Хотелось бы получше изучить\n",
    "# их природу...\n",
    "\n",
    "df['Хрефы'] = all_hrefs"
   ]
  },
  {
   "cell_type": "code",
   "execution_count": 56,
   "metadata": {},
   "outputs": [
    {
     "data": {
      "text/html": [
       "<div>\n",
       "<table border=\"1\" class=\"dataframe\">\n",
       "  <thead>\n",
       "    <tr style=\"text-align: right;\">\n",
       "      <th></th>\n",
       "      <th>Балкон:</th>\n",
       "      <th>Вид из окна:</th>\n",
       "      <th>Высота потолков:</th>\n",
       "      <th>Год постройки:</th>\n",
       "      <th>До метро</th>\n",
       "      <th>Жилая площадь:</th>\n",
       "      <th>Комнаты</th>\n",
       "      <th>Координаты</th>\n",
       "      <th>Лифт:</th>\n",
       "      <th>Метро</th>\n",
       "      <th>...</th>\n",
       "      <th>Санузел:</th>\n",
       "      <th>Сдача ГК:</th>\n",
       "      <th>Совмещенных санузлов:</th>\n",
       "      <th>Статус помещения:</th>\n",
       "      <th>Телефон:</th>\n",
       "      <th>Тип дома:</th>\n",
       "      <th>Тип продажи:</th>\n",
       "      <th>Цена</th>\n",
       "      <th>Этаж:</th>\n",
       "      <th>Хрефы</th>\n",
       "    </tr>\n",
       "  </thead>\n",
       "  <tbody>\n",
       "    <tr>\n",
       "      <th>1</th>\n",
       "      <td>нет</td>\n",
       "      <td>–</td>\n",
       "      <td>NaN</td>\n",
       "      <td>NaN</td>\n",
       "      <td>45\\n                мин.\\n                \\n  ...</td>\n",
       "      <td>64 м2</td>\n",
       "      <td>3-комн. кв. \\n    \\n\\n                \\n      ...</td>\n",
       "      <td>[37.186408,55.967809]</td>\n",
       "      <td>1 пасс. + 1 груз.</td>\n",
       "      <td>Пятницкое шоссе,</td>\n",
       "      <td>...</td>\n",
       "      <td>NaN</td>\n",
       "      <td>4 кв. 2014 года</td>\n",
       "      <td>NaN</td>\n",
       "      <td>NaN</td>\n",
       "      <td>NaN</td>\n",
       "      <td>новостройка, \\n            монолитный</td>\n",
       "      <td>свободная</td>\n",
       "      <td>6 335 910 руб.</td>\n",
       "      <td>1 / 16</td>\n",
       "      <td>https://www.cian.ru/sale/flat/155887679/</td>\n",
       "    </tr>\n",
       "    <tr>\n",
       "      <th>2</th>\n",
       "      <td>1 балк.</td>\n",
       "      <td>двор</td>\n",
       "      <td>2,64 м</td>\n",
       "      <td>1996</td>\n",
       "      <td>5\\n                мин.\\n                \\n   ...</td>\n",
       "      <td>49 м2</td>\n",
       "      <td>3-комн. кв.</td>\n",
       "      <td>[37.580921,55.537928]</td>\n",
       "      <td>2 пасс.</td>\n",
       "      <td>Бульвар Дмитрия Донского,</td>\n",
       "      <td>...</td>\n",
       "      <td>NaN</td>\n",
       "      <td>NaN</td>\n",
       "      <td>NaN</td>\n",
       "      <td>NaN</td>\n",
       "      <td>да</td>\n",
       "      <td>вторичка, \\n            панельный дом</td>\n",
       "      <td>свободная</td>\n",
       "      <td>7 700 000 руб.</td>\n",
       "      <td>13 / 14</td>\n",
       "      <td>https://www.cian.ru/sale/flat/156776650/</td>\n",
       "    </tr>\n",
       "    <tr>\n",
       "      <th>3</th>\n",
       "      <td>1 балк.</td>\n",
       "      <td>двор</td>\n",
       "      <td>NaN</td>\n",
       "      <td>NaN</td>\n",
       "      <td>12\\n                мин.\\n                \\n  ...</td>\n",
       "      <td>42 м2</td>\n",
       "      <td>2-комн. кв. \\n    \\n\\n                \\n      ...</td>\n",
       "      <td>[37.489518,55.703474]</td>\n",
       "      <td>1 пасс. + 1 груз.</td>\n",
       "      <td>Киевская,</td>\n",
       "      <td>...</td>\n",
       "      <td>нет</td>\n",
       "      <td>NaN</td>\n",
       "      <td>NaN</td>\n",
       "      <td>NaN</td>\n",
       "      <td>нет</td>\n",
       "      <td>вторичка, \\n            монолитный</td>\n",
       "      <td>свободная</td>\n",
       "      <td>23 400 000 руб.</td>\n",
       "      <td>8 / 18</td>\n",
       "      <td>https://www.cian.ru/sale/flat/153398088/</td>\n",
       "    </tr>\n",
       "    <tr>\n",
       "      <th>4</th>\n",
       "      <td>–</td>\n",
       "      <td>–</td>\n",
       "      <td>NaN</td>\n",
       "      <td>2014</td>\n",
       "      <td>15\\n                мин.\\n                \\n  ...</td>\n",
       "      <td>–</td>\n",
       "      <td>студия</td>\n",
       "      <td>[37.552543,55.491804]</td>\n",
       "      <td>–</td>\n",
       "      <td>Бунинская аллея,</td>\n",
       "      <td>...</td>\n",
       "      <td>нет</td>\n",
       "      <td>NaN</td>\n",
       "      <td>NaN</td>\n",
       "      <td>NaN</td>\n",
       "      <td>NaN</td>\n",
       "      <td>вторичка</td>\n",
       "      <td>свободная</td>\n",
       "      <td>1 290 000 руб.</td>\n",
       "      <td>3 / 3</td>\n",
       "      <td>https://www.cian.ru/sale/flat/156788999/</td>\n",
       "    </tr>\n",
       "    <tr>\n",
       "      <th>5</th>\n",
       "      <td>–</td>\n",
       "      <td>–</td>\n",
       "      <td>NaN</td>\n",
       "      <td>NaN</td>\n",
       "      <td>25\\n                мин.\\n                \\n  ...</td>\n",
       "      <td>26 м2</td>\n",
       "      <td>студия</td>\n",
       "      <td>[37.322593,55.648382]</td>\n",
       "      <td>–</td>\n",
       "      <td>Киевская,</td>\n",
       "      <td>...</td>\n",
       "      <td>NaN</td>\n",
       "      <td>NaN</td>\n",
       "      <td>1</td>\n",
       "      <td>NaN</td>\n",
       "      <td>NaN</td>\n",
       "      <td>вторичка</td>\n",
       "      <td>свободная</td>\n",
       "      <td>1 440 000 руб.</td>\n",
       "      <td>3 / 3</td>\n",
       "      <td>https://www.cian.ru/sale/flat/153866608/</td>\n",
       "    </tr>\n",
       "  </tbody>\n",
       "</table>\n",
       "<p>5 rows × 27 columns</p>\n",
       "</div>"
      ],
      "text/plain": [
       "   Балкон: Вид из окна: Высота потолков: Год постройки:  \\\n",
       "1      нет            –              NaN            NaN   \n",
       "2  1 балк.         двор           2,64 м           1996   \n",
       "3  1 балк.         двор              NaN            NaN   \n",
       "4        –            –              NaN           2014   \n",
       "5        –            –              NaN            NaN   \n",
       "\n",
       "                                            До метро Жилая площадь:  \\\n",
       "1  45\\n                мин.\\n                \\n  ...          64 м2   \n",
       "2  5\\n                мин.\\n                \\n   ...          49 м2   \n",
       "3  12\\n                мин.\\n                \\n  ...          42 м2   \n",
       "4  15\\n                мин.\\n                \\n  ...              –   \n",
       "5  25\\n                мин.\\n                \\n  ...          26 м2   \n",
       "\n",
       "                                             Комнаты             Координаты  \\\n",
       "1  3-комн. кв. \\n    \\n\\n                \\n      ...  [37.186408,55.967809]   \n",
       "2                                        3-комн. кв.  [37.580921,55.537928]   \n",
       "3  2-комн. кв. \\n    \\n\\n                \\n      ...  [37.489518,55.703474]   \n",
       "4                                             студия  [37.552543,55.491804]   \n",
       "5                                             студия  [37.322593,55.648382]   \n",
       "\n",
       "               Лифт:                      Метро  \\\n",
       "1  1 пасс. + 1 груз.           Пятницкое шоссе,   \n",
       "2            2 пасс.  Бульвар Дмитрия Донского,   \n",
       "3  1 пасс. + 1 груз.                  Киевская,   \n",
       "4                  –           Бунинская аллея,   \n",
       "5                  –                  Киевская,   \n",
       "\n",
       "                     ...                    Санузел:        Сдача ГК:  \\\n",
       "1                    ...                         NaN  4 кв. 2014 года   \n",
       "2                    ...                         NaN              NaN   \n",
       "3                    ...                         нет              NaN   \n",
       "4                    ...                         нет              NaN   \n",
       "5                    ...                         NaN              NaN   \n",
       "\n",
       "  Совмещенных санузлов: Статус помещения: Телефон:  \\\n",
       "1                   NaN               NaN      NaN   \n",
       "2                   NaN               NaN       да   \n",
       "3                   NaN               NaN      нет   \n",
       "4                   NaN               NaN      NaN   \n",
       "5                     1               NaN      NaN   \n",
       "\n",
       "                               Тип дома: Тип продажи:             Цена  \\\n",
       "1  новостройка, \\n            монолитный    свободная   6 335 910 руб.   \n",
       "2  вторичка, \\n            панельный дом    свободная   7 700 000 руб.   \n",
       "3     вторичка, \\n            монолитный    свободная  23 400 000 руб.   \n",
       "4                               вторичка    свободная   1 290 000 руб.   \n",
       "5                               вторичка    свободная   1 440 000 руб.   \n",
       "\n",
       "     Этаж:                                     Хрефы  \n",
       "1   1 / 16  https://www.cian.ru/sale/flat/155887679/  \n",
       "2  13 / 14  https://www.cian.ru/sale/flat/156776650/  \n",
       "3   8 / 18  https://www.cian.ru/sale/flat/153398088/  \n",
       "4    3 / 3  https://www.cian.ru/sale/flat/156788999/  \n",
       "5    3 / 3  https://www.cian.ru/sale/flat/153866608/  \n",
       "\n",
       "[5 rows x 27 columns]"
      ]
     },
     "execution_count": 56,
     "metadata": {},
     "output_type": "execute_result"
    }
   ],
   "source": [
    "# Посмотрим на получившуюся таблицу! \n",
    "df.head( )"
   ]
  },
  {
   "cell_type": "code",
   "execution_count": 57,
   "metadata": {},
   "outputs": [
    {
     "data": {
      "text/plain": [
       "(280, 27)"
      ]
     },
     "execution_count": 57,
     "metadata": {},
     "output_type": "execute_result"
    }
   ],
   "source": [
    "# Посмотрим на размерность таблицы!\n",
    "df.shape"
   ]
  },
  {
   "cell_type": "markdown",
   "metadata": {},
   "source": [
    "Сохраняем данные в формате csv... "
   ]
  },
  {
   "cell_type": "code",
   "execution_count": null,
   "metadata": {},
   "outputs": [],
   "source": [
    "pd.DataFrame.to_csv(df,'CIAN_data.csv')"
   ]
  },
  {
   "cell_type": "code",
   "execution_count": null,
   "metadata": {
    "collapsed": true
   },
   "outputs": [],
   "source": []
  }
 ],
 "metadata": {
  "kernelspec": {
   "display_name": "Python 3",
   "language": "python",
   "name": "python3"
  },
  "language_info": {
   "codemirror_mode": {
    "name": "ipython",
    "version": 3
   },
   "file_extension": ".py",
   "mimetype": "text/x-python",
   "name": "python",
   "nbconvert_exporter": "python",
   "pygments_lexer": "ipython3",
   "version": "3.7.2"
  }
 },
 "nbformat": 4,
 "nbformat_minor": 1
}
